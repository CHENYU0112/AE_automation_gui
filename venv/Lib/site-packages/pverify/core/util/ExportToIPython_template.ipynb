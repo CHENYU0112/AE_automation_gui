{
 "metadata": {
  "name": "",
  "signature": "sha256:96a695cb8a87c960f89b62deca5b2dc5841857e9f69db824c21013182571a346"
 },
 "nbformat": 3,
 "nbformat_minor": 0,
 "worksheets": [
  {
   "cells": [
    {
     "cell_type": "code",
     "collapsed": false,
     "input": [],
     "language": "python",
     "metadata": {},
     "outputs": []
    }
   ],
   "metadata": {}
  }
 ]
}
