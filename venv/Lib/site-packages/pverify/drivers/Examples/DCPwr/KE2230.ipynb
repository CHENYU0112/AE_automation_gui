{
 "cells": [
  {
   "cell_type": "code",
   "execution_count": null,
   "metadata": {
    "ExecuteTime": {
     "end_time": "2019-10-14T11:07:57.324394Z",
     "start_time": "2019-10-14T11:07:57.318943Z"
    },
    "scrolled": true
   },
   "outputs": [],
   "source": [
    "# Generic Imports\n",
    "import numpy as np\n",
    "import time\n",
    "import sys"
   ]
  },
  {
   "cell_type": "code",
   "execution_count": null,
   "metadata": {
    "ExecuteTime": {
     "end_time": "2019-10-14T11:08:03.959311Z",
     "start_time": "2019-10-14T11:07:57.931671Z"
    }
   },
   "outputs": [],
   "source": [
    "# Imports for DC Power Supply.\n",
    "from pverify.drivers.DCPwr.KE2230.KE2230_simple import KE2230Simple\n",
    "from pverify.drivers.SimplifiedLabInstruments import SimpleDcPwr"
   ]
  },
  {
   "cell_type": "code",
   "execution_count": null,
   "metadata": {
    "ExecuteTime": {
     "end_time": "2019-10-14T11:08:04.104303Z",
     "start_time": "2019-10-14T11:08:04.053604Z"
    }
   },
   "outputs": [],
   "source": [
    "# Creating the Object\n",
    "dcps = SimpleDcPwr(KE2230Simple())"
   ]
  },
  {
   "cell_type": "code",
   "execution_count": null,
   "metadata": {
    "ExecuteTime": {
     "end_time": "2019-10-14T11:08:06.061303Z",
     "start_time": "2019-10-14T11:08:04.184303Z"
    }
   },
   "outputs": [],
   "source": [
    "# Opens the I/O session to the instrument.\n",
    "dcps.Initialize(ResourceName=\"USB0::0x05E6::0x2230::9102010::INSTR\", IdQuery=False, Reset=False, OptionString=\"simulate=False\")"
   ]
  },
  {
   "cell_type": "markdown",
   "metadata": {},
   "source": [
    "### Enable the Channel."
   ]
  },
  {
   "cell_type": "code",
   "execution_count": null,
   "metadata": {
    "ExecuteTime": {
     "end_time": "2019-10-14T11:08:06.192517Z",
     "start_time": "2019-10-14T11:08:06.169313Z"
    }
   },
   "outputs": [],
   "source": [
    "# Returns a channel object and enable it.\n",
    "ch1 = dcps.GetChannel(1)\n",
    "ch2 = dcps.GetChannel(2)\n",
    "ch1.Enable(True)\n",
    "ch2.Enable(True)"
   ]
  },
  {
   "cell_type": "code",
   "execution_count": null,
   "metadata": {
    "ExecuteTime": {
     "end_time": "2019-10-14T11:08:06.268311Z",
     "start_time": "2019-10-14T11:08:06.256340Z"
    }
   },
   "outputs": [],
   "source": [
    "voltage_levels = [i for i in np.arange(1.0, 5.5, 0.5)]\n",
    "current_levels = [i for i in np.arange(0.5, 1.5, 0.2)]"
   ]
  },
  {
   "cell_type": "markdown",
   "metadata": {},
   "source": [
    "### Set Range"
   ]
  },
  {
   "cell_type": "code",
   "execution_count": null,
   "metadata": {},
   "outputs": [],
   "source": [
    "ch1.Configure_Range(\"current\", 1)\n",
    "ch1.Configure_Range(\"voltage\", 5)"
   ]
  },
  {
   "cell_type": "markdown",
   "metadata": {},
   "source": [
    "### Set Voltage and Measure"
   ]
  },
  {
   "cell_type": "code",
   "execution_count": null,
   "metadata": {
    "ExecuteTime": {
     "end_time": "2019-10-14T11:09:04.186024Z",
     "start_time": "2019-10-14T11:08:45.802291Z"
    }
   },
   "outputs": [],
   "source": [
    "for voltage in voltage_levels:\n",
    "    ch1.Configure_VoltageLevel(voltage)\n",
    "    ch2.Configure_VoltageLevel(voltage+1)\n",
    "    time.sleep(1)\n",
    "    print(\"Voltage at Channel 1:\",ch1.Measure_Voltage())\n",
    "    print(\"Current at Channel 1:\",ch1.Measure_Current())\n",
    "    print(\"Voltage at Channel 2:\",ch2.Measure_Voltage())\n",
    "    print(\"Current at Channel 2:\",ch2.Measure_Current())"
   ]
  },
  {
   "cell_type": "markdown",
   "metadata": {},
   "source": [
    "### Disable the Channel."
   ]
  },
  {
   "cell_type": "code",
   "execution_count": null,
   "metadata": {
    "ExecuteTime": {
     "end_time": "2019-10-14T11:09:27.070672Z",
     "start_time": "2019-10-14T11:09:27.063093Z"
    }
   },
   "outputs": [],
   "source": [
    "ch1.Enable(False)\n",
    "ch2.Enable(False)"
   ]
  },
  {
   "cell_type": "markdown",
   "metadata": {},
   "source": [
    "### Closing the connection"
   ]
  },
  {
   "cell_type": "code",
   "execution_count": null,
   "metadata": {
    "ExecuteTime": {
     "end_time": "2019-10-14T11:09:28.872948Z",
     "start_time": "2019-10-14T11:09:28.861986Z"
    }
   },
   "outputs": [],
   "source": [
    "dcps.Close()"
   ]
  }
 ],
 "metadata": {
  "kernelspec": {
   "display_name": "Python 3",
   "language": "python",
   "name": "python3"
  },
  "language_info": {
   "codemirror_mode": {
    "name": "ipython",
    "version": 3
   },
   "file_extension": ".py",
   "mimetype": "text/x-python",
   "name": "python",
   "nbconvert_exporter": "python",
   "pygments_lexer": "ipython3",
   "version": "3.6.5"
  },
  "toc": {
   "base_numbering": 1,
   "nav_menu": {},
   "number_sections": true,
   "sideBar": true,
   "skip_h1_title": false,
   "title_cell": "Table of Contents",
   "title_sidebar": "Contents",
   "toc_cell": false,
   "toc_position": {},
   "toc_section_display": true,
   "toc_window_display": false
  },
  "varInspector": {
   "cols": {
    "lenName": 16,
    "lenType": 16,
    "lenVar": 40
   },
   "kernels_config": {
    "python": {
     "delete_cmd_postfix": "",
     "delete_cmd_prefix": "del ",
     "library": "var_list.py",
     "varRefreshCmd": "print(var_dic_list())"
    },
    "r": {
     "delete_cmd_postfix": ") ",
     "delete_cmd_prefix": "rm(",
     "library": "var_list.r",
     "varRefreshCmd": "cat(var_dic_list()) "
    }
   },
   "types_to_exclude": [
    "module",
    "function",
    "builtin_function_or_method",
    "instance",
    "_Feature"
   ],
   "window_display": false
  }
 },
 "nbformat": 4,
 "nbformat_minor": 2
}
