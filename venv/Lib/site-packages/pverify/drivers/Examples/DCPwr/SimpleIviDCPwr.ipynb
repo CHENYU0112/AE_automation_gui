{
 "cells": [
  {
   "cell_type": "markdown",
   "metadata": {
    "toc": true
   },
   "source": [
    "<h1>Table of Contents<span class=\"tocSkip\"></span></h1>\n",
    "<div class=\"toc\"><ul class=\"toc-item\"><li><span><a href=\"#Enable-the-Channel.\" data-toc-modified-id=\"Enable-the-Channel.-1\"><span class=\"toc-item-num\">1&nbsp;&nbsp;</span>Enable the Channel.</a></span></li><li><span><a href=\"#Set-Range\" data-toc-modified-id=\"Set-Range-2\"><span class=\"toc-item-num\">2&nbsp;&nbsp;</span>Set Range</a></span></li><li><span><a href=\"#Set-Voltage-and-Measure\" data-toc-modified-id=\"Set-Voltage-and-Measure-3\"><span class=\"toc-item-num\">3&nbsp;&nbsp;</span>Set Voltage and Measure</a></span></li><li><span><a href=\"#Disable-the-Channel.\" data-toc-modified-id=\"Disable-the-Channel.-4\"><span class=\"toc-item-num\">4&nbsp;&nbsp;</span>Disable the Channel.</a></span></li><li><span><a href=\"#Closing-the-connection\" data-toc-modified-id=\"Closing-the-connection-5\"><span class=\"toc-item-num\">5&nbsp;&nbsp;</span>Closing the connection</a></span></li></ul></div>"
   ]
  },
  {
   "cell_type": "code",
   "execution_count": null,
   "metadata": {
    "scrolled": false
   },
   "outputs": [],
   "source": [
    "# Generic Imports\n",
    "import numpy as np\n",
    "import time          \n",
    "import sys"
   ]
  },
  {
   "cell_type": "code",
   "execution_count": null,
   "metadata": {
    "scrolled": false
   },
   "outputs": [],
   "source": [
    "# Supported Instruments are : E3631A, E3646A, E3640A, E3632A\n",
    "# Imports for DC Power Supply.\n",
    "from pverify.drivers.DCPwr.AgE36xx import IIviDCPwr\n",
    "from pverify.drivers.SimplifiedLabInstruments import SimpleDcPwr"
   ]
  },
  {
   "cell_type": "code",
   "execution_count": null,
   "metadata": {
    "scrolled": false
   },
   "outputs": [],
   "source": [
    "# Creating the Object\n",
    "dcps = SimpleDcPwr(IIviDCPwr())"
   ]
  },
  {
   "cell_type": "code",
   "execution_count": null,
   "metadata": {
    "scrolled": false
   },
   "outputs": [],
   "source": [
    "# Opens the I/O session to the instrument.\n",
    "dcps.Initialize(ResourceName=\"GPIB1::1::INSTR\", IdQuery=True, Reset=False, OptionString=\"simulate=False\")"
   ]
  },
  {
   "cell_type": "markdown",
   "metadata": {},
   "source": [
    "### Enable the Channel."
   ]
  },
  {
   "cell_type": "code",
   "execution_count": null,
   "metadata": {
    "scrolled": false
   },
   "outputs": [],
   "source": [
    "# Returns a channel object and enable it.\n",
    "ch1 = dcps.GetChannel(1)\n",
    "ch2 = dcps.GetChannel(2)\n",
    "ch1.Enable(True)\n",
    "ch1.Enable(True)"
   ]
  },
  {
   "cell_type": "code",
   "execution_count": null,
   "metadata": {
    "scrolled": false
   },
   "outputs": [],
   "source": [
    "voltage_levels = [i for i in np.arange(1.0, 5.5, 0.5)]\n",
    "current_levels = [i for i in np.arange(0.5, 1.5, 0.2)]"
   ]
  },
  {
   "cell_type": "markdown",
   "metadata": {},
   "source": [
    "### Set Range"
   ]
  },
  {
   "cell_type": "code",
   "execution_count": null,
   "metadata": {},
   "outputs": [],
   "source": [
    "ch1.Configure_Range(\"current\", 1)\n",
    "ch1.Configure_Range(\"voltage\", 5)"
   ]
  },
  {
   "cell_type": "markdown",
   "metadata": {},
   "source": [
    "### Set Voltage and Measure"
   ]
  },
  {
   "cell_type": "code",
   "execution_count": null,
   "metadata": {
    "scrolled": false
   },
   "outputs": [],
   "source": [
    "for voltage in voltage_levels:\n",
    "    ch1.Configure_VoltageLevel(voltage)\n",
    "    ch2.Configure_VoltageLevel(voltage+1)\n",
    "    time.sleep(1)\n",
    "    print(\"Voltage at Channel 1:\",ch1.Measure_Voltage())\n",
    "    print(\"Current at Channel 1:\",ch1.Measure_Current())\n",
    "    print(\"Voltage at Channel 2:\",ch2.Measure_Voltage())\n",
    "    print(\"Current at Channel 2:\",ch2.Measure_Current())"
   ]
  },
  {
   "cell_type": "markdown",
   "metadata": {},
   "source": [
    "### Disable the Channel."
   ]
  },
  {
   "cell_type": "code",
   "execution_count": null,
   "metadata": {
    "scrolled": false
   },
   "outputs": [],
   "source": [
    "ch1.Enable(False)\n",
    "ch2.Enable(False)"
   ]
  },
  {
   "cell_type": "markdown",
   "metadata": {},
   "source": [
    "### Closing the connection"
   ]
  },
  {
   "cell_type": "code",
   "execution_count": null,
   "metadata": {
    "scrolled": false
   },
   "outputs": [],
   "source": [
    "# Closes the I/O session to the instrument.\n",
    "dcps.Close()"
   ]
  }
 ],
 "metadata": {
  "kernelspec": {
   "display_name": "Python 3",
   "language": "python",
   "name": "python3"
  },
  "language_info": {
   "codemirror_mode": {
    "name": "ipython",
    "version": 3
   },
   "file_extension": ".py",
   "mimetype": "text/x-python",
   "name": "python",
   "nbconvert_exporter": "python",
   "pygments_lexer": "ipython3",
   "version": "3.6.5"
  },
  "toc": {
   "base_numbering": 1,
   "nav_menu": {},
   "number_sections": true,
   "sideBar": true,
   "skip_h1_title": false,
   "title_cell": "Table of Contents",
   "title_sidebar": "Contents",
   "toc_cell": true,
   "toc_position": {},
   "toc_section_display": true,
   "toc_window_display": true
  }
 },
 "nbformat": 4,
 "nbformat_minor": 2
}
