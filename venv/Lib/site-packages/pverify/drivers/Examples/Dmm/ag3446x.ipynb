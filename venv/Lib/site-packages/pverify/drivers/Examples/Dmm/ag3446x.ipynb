{
 "cells": [
  {
   "cell_type": "code",
   "execution_count": 2,
   "metadata": {
    "ExecuteTime": {
     "end_time": "2019-10-14T13:45:09.840893Z",
     "start_time": "2019-10-14T13:45:09.830889Z"
    }
   },
   "outputs": [],
   "source": [
    "# Imports for Digital Multi Meter\n",
    "from pverify.drivers.Dmm import ag3446x, ke2000\n",
    "from pverify.drivers.SimplifiedLabInstruments import SimpleDmm"
   ]
  },
  {
   "cell_type": "code",
   "execution_count": 4,
   "metadata": {
    "ExecuteTime": {
     "end_time": "2019-10-14T13:45:11.157159Z",
     "start_time": "2019-10-14T13:45:10.790155Z"
    }
   },
   "outputs": [],
   "source": [
    "# Creating the object\n",
    "dmm = SimpleDmm(ag3446x.IIviDmm())"
   ]
  },
  {
   "cell_type": "code",
   "execution_count": 5,
   "metadata": {
    "ExecuteTime": {
     "end_time": "2019-10-14T13:45:12.595706Z",
     "start_time": "2019-10-14T13:45:11.965856Z"
    }
   },
   "outputs": [],
   "source": [
    "# Opens the I/O session to the instrument.\n",
    "dmm.Initialize(ResourceName='USB0::0x2A8D::0x0101::MY57507358::INSTR', IdQuery=False, Reset=False, OptionString=\"simulate=True\")"
   ]
  },
  {
   "cell_type": "code",
   "execution_count": 6,
   "metadata": {
    "ExecuteTime": {
     "end_time": "2019-10-14T13:45:13.778271Z",
     "start_time": "2019-10-14T13:45:13.774285Z"
    }
   },
   "outputs": [],
   "source": [
    "# Seting up the Multi Meter\n",
    "dmm.DmmSetup(Function=\"DCVOLT\", Range=5, Resolution=1e-3)"
   ]
  },
  {
   "cell_type": "code",
   "execution_count": 7,
   "metadata": {
    "scrolled": true
   },
   "outputs": [
    {
     "name": "stdout",
     "output_type": "stream",
     "text": [
      "5.138706625568408 1.7572557756279183 3.0863368633075963 5.345316934720908 9.476302377391889 1.717276528214362 7.022309030426954 2.2641682180242317 4.9476607562486645 1.2469862971892451 0.8389538254951628 3.8962981048005614 2.772301400799585 3.680532242805261 9.834589678640096 5.353862117374187 7.656788842432936 6.4647358623004845 7.671437726981414 7.8023621326334425 8.229621265297403 1.5192114017151404 6.254768517105624 3.1467635120700703 3.469038972136601 9.172032837916197 5.1976073488570815 4.011658070619831 6.067690054017762 7.854243598742637 9.315469832453383 8.699301126133 8.665425580614643 6.7452009643849 7.584154789880062 5.8189642017883845 3.892330698568682 3.556321909237953 2.0023194067201757 8.269295327616199 4.159062471388897 4.635151219214453 9.7918637653737 1.2643818475905635 2.1262245551927244 9.584643086031678 7.3747978148747215 4.090395825067904 7.801141392254403 7.578966643269142 "
     ]
    }
   ],
   "source": [
    "# Initiates a measurement and fetches a single data point.\n",
    "for i in range(50):\n",
    "    print(dmm.Read_Single(500), end=' ')"
   ]
  },
  {
   "cell_type": "code",
   "execution_count": 8,
   "metadata": {},
   "outputs": [
    {
     "data": {
      "text/plain": [
       "9.5684682760094"
      ]
     },
     "execution_count": 8,
     "metadata": {},
     "output_type": "execute_result"
    }
   ],
   "source": [
    "# Fetches the last measurent single data point without triggering a new measurement\n",
    "dmm.Fetch_Single(10)"
   ]
  },
  {
   "cell_type": "code",
   "execution_count": 11,
   "metadata": {
    "ExecuteTime": {
     "end_time": "2019-10-14T13:45:23.163711Z",
     "start_time": "2019-10-14T13:45:23.158743Z"
    }
   },
   "outputs": [],
   "source": [
    "# Setup function for multipoint measurement.\n",
    "dmm.Configure_Multipoint(Count=1, SampleCount=10)"
   ]
  },
  {
   "cell_type": "code",
   "execution_count": 12,
   "metadata": {},
   "outputs": [
    {
     "data": {
      "text/plain": [
       "([5.969725638599811,\n",
       "  5.175634022034363,\n",
       "  3.0265205847346417,\n",
       "  9.080477309488204,\n",
       "  6.7458113345744195,\n",
       "  7.856990264595477,\n",
       "  9.261452070680868,\n",
       "  7.881405072176275,\n",
       "  3.6561174352244636,\n",
       "  5.596484267708365],\n",
       " 10)"
      ]
     },
     "execution_count": 12,
     "metadata": {},
     "output_type": "execute_result"
    }
   ],
   "source": [
    "# Initiates and fetches multiple data points (count depends on multipoint setup).\n",
    "dmm.Read_Multi(500)"
   ]
  },
  {
   "cell_type": "code",
   "execution_count": 9,
   "metadata": {},
   "outputs": [],
   "source": [
    "# Setup function for AC measurements.\n",
    "dmm.Configure_AC_Measurement(100)"
   ]
  },
  {
   "cell_type": "code",
   "execution_count": 10,
   "metadata": {},
   "outputs": [],
   "source": [
    "# Clase the I/O Session to the instruments.\n",
    "dmm.Close()"
   ]
  }
 ],
 "metadata": {
  "kernelspec": {
   "display_name": "Python 3",
   "language": "python",
   "name": "python3"
  },
  "language_info": {
   "codemirror_mode": {
    "name": "ipython",
    "version": 3
   },
   "file_extension": ".py",
   "mimetype": "text/x-python",
   "name": "python",
   "nbconvert_exporter": "python",
   "pygments_lexer": "ipython3",
   "version": "3.6.5"
  },
  "toc": {
   "base_numbering": 1,
   "nav_menu": {},
   "number_sections": true,
   "sideBar": true,
   "skip_h1_title": false,
   "title_cell": "Table of Contents",
   "title_sidebar": "Contents",
   "toc_cell": false,
   "toc_position": {},
   "toc_section_display": true,
   "toc_window_display": false
  },
  "varInspector": {
   "cols": {
    "lenName": 16,
    "lenType": 16,
    "lenVar": 40
   },
   "kernels_config": {
    "python": {
     "delete_cmd_postfix": "",
     "delete_cmd_prefix": "del ",
     "library": "var_list.py",
     "varRefreshCmd": "print(var_dic_list())"
    },
    "r": {
     "delete_cmd_postfix": ") ",
     "delete_cmd_prefix": "rm(",
     "library": "var_list.r",
     "varRefreshCmd": "cat(var_dic_list()) "
    }
   },
   "types_to_exclude": [
    "module",
    "function",
    "builtin_function_or_method",
    "instance",
    "_Feature"
   ],
   "window_display": false
  }
 },
 "nbformat": 4,
 "nbformat_minor": 2
}
