{
 "cells": [
  {
   "cell_type": "code",
   "execution_count": 2,
   "metadata": {
    "collapsed": true
   },
   "outputs": [],
   "source": [
    "%matplotlib inline"
   ]
  },
  {
   "cell_type": "code",
   "execution_count": 4,
   "metadata": {
    "collapsed": true
   },
   "outputs": [],
   "source": [
    "import sys\n",
    "sys.path.insert(0, r\"C:\\Projects\\CCS_SimpleSMU\\PyVerify\")"
   ]
  },
  {
   "cell_type": "code",
   "execution_count": 5,
   "metadata": {
    "collapsed": false
   },
   "outputs": [
    {
     "name": "stderr",
     "output_type": "stream",
     "text": [
      "C:\\Inicio\\tools\\64\\Anaconda3-4.0.0.4\\lib\\site-packages\\matplotlib\\__init__.py:1350: UserWarning:  This call to matplotlib.use() has no effect\n",
      "because the backend has already been chosen;\n",
      "matplotlib.use() must be called *before* pylab, matplotlib.pyplot,\n",
      "or matplotlib.backends is imported for the first time.\n",
      "\n",
      "  warnings.warn(_use_error_msg)\n"
     ]
    }
   ],
   "source": [
    "from pverify.drivers.SMU.ke2450.ke2450 import *"
   ]
  },
  {
   "cell_type": "code",
   "execution_count": 6,
   "metadata": {
    "collapsed": false
   },
   "outputs": [],
   "source": [
    "s = ke2450()\n",
    "s.Initialize(\"USB0::0x05E6::0x2450::04314436::INSTR\", True, True, OptionString=\"simulate=false\")\n",
    "c = s.GetChannel(1)"
   ]
  },
  {
   "cell_type": "markdown",
   "metadata": {},
   "source": [
    "# Quick Setup"
   ]
  },
  {
   "cell_type": "code",
   "execution_count": 40,
   "metadata": {
    "collapsed": true
   },
   "outputs": [],
   "source": [
    "c.SourceMeterSetup(Source=\"voltage\", Measure=\"voltage\",    Performance=0)"
   ]
  },
  {
   "cell_type": "code",
   "execution_count": 41,
   "metadata": {
    "collapsed": true
   },
   "outputs": [],
   "source": [
    "c.SourceMeterSetup(Source=\"voltage\", Measure=\"current\",    Performance=1)"
   ]
  },
  {
   "cell_type": "code",
   "execution_count": 42,
   "metadata": {
    "collapsed": true
   },
   "outputs": [],
   "source": [
    "c.SourceMeterSetup(Source=\"voltage\", Measure=\"resistance\", Performance=2)"
   ]
  },
  {
   "cell_type": "code",
   "execution_count": 43,
   "metadata": {
    "collapsed": true
   },
   "outputs": [],
   "source": [
    "c.SourceMeterSetup(Source=\"voltage\", Measure=\"power\",      Performance=3)"
   ]
  },
  {
   "cell_type": "code",
   "execution_count": 44,
   "metadata": {
    "collapsed": true
   },
   "outputs": [],
   "source": [
    "c.SourceMeterSetup(Source=\"current\", Measure=\"voltage\",    Performance=4)"
   ]
  },
  {
   "cell_type": "code",
   "execution_count": 45,
   "metadata": {
    "collapsed": true
   },
   "outputs": [],
   "source": [
    "c.SourceMeterSetup(Source=\"current\", Measure=\"current\",    Performance=5)"
   ]
  },
  {
   "cell_type": "code",
   "execution_count": 46,
   "metadata": {
    "collapsed": true
   },
   "outputs": [],
   "source": [
    "c.SourceMeterSetup(Source=\"current\", Measure=\"resistance\", Performance=6)"
   ]
  },
  {
   "cell_type": "code",
   "execution_count": 47,
   "metadata": {
    "collapsed": false
   },
   "outputs": [],
   "source": [
    "c.SourceMeterSetup(Source=\"current\", Measure=\"power\",      Performance=3)"
   ]
  },
  {
   "cell_type": "markdown",
   "metadata": {},
   "source": [
    "# Source Voltage, Measure Voltage"
   ]
  },
  {
   "cell_type": "code",
   "execution_count": 48,
   "metadata": {
    "collapsed": true
   },
   "outputs": [],
   "source": [
    "c.SourceMeterSetup(Source=\"voltage\", Measure=\"voltage\", Performance=3)"
   ]
  },
  {
   "cell_type": "code",
   "execution_count": 49,
   "metadata": {
    "collapsed": true
   },
   "outputs": [],
   "source": [
    "c.Source.Voltage.ConfigureSource(Amplitude=5, Range=10, ReadBackState=True)"
   ]
  },
  {
   "cell_type": "code",
   "execution_count": 50,
   "metadata": {
    "collapsed": true
   },
   "outputs": [],
   "source": [
    "c.Source.SetOutputEnabled(True)"
   ]
  },
  {
   "cell_type": "code",
   "execution_count": 51,
   "metadata": {
    "collapsed": false
   },
   "outputs": [
    {
     "name": "stdout",
     "output_type": "stream",
     "text": [
      "[4.999976, 4.999976]\n"
     ]
    }
   ],
   "source": [
    "print(c.Measure.Read())  # Returns the sourced and measured value"
   ]
  },
  {
   "cell_type": "code",
   "execution_count": 52,
   "metadata": {
    "collapsed": false
   },
   "outputs": [
    {
     "name": "stdout",
     "output_type": "stream",
     "text": [
      "[4.999976, 'Volt DC']\n"
     ]
    }
   ],
   "source": [
    "print(c.Measure.Fetch(BufferElements=\"SOUR, SOURUNIT\"))"
   ]
  },
  {
   "cell_type": "code",
   "execution_count": 53,
   "metadata": {
    "collapsed": false
   },
   "outputs": [
    {
     "name": "stdout",
     "output_type": "stream",
     "text": [
      "[4.999976, 'Volt DC']\n"
     ]
    }
   ],
   "source": [
    "print(c.Measure.Fetch(BufferElements=\"READ, UNIT\"))"
   ]
  },
  {
   "cell_type": "code",
   "execution_count": 54,
   "metadata": {
    "collapsed": true
   },
   "outputs": [],
   "source": [
    "c.Source.Voltage.ConfigureSource(Amplitude=0)\n",
    "c.Source.SetOutputEnabled(False)"
   ]
  },
  {
   "cell_type": "markdown",
   "metadata": {},
   "source": [
    "# Source Voltage, Measure Current"
   ]
  },
  {
   "cell_type": "markdown",
   "metadata": {},
   "source": [
    "The performance parameter pre-configures NPLC, Resolution, AutoZeroState and Averaging"
   ]
  },
  {
   "cell_type": "code",
   "execution_count": 107,
   "metadata": {
    "collapsed": false
   },
   "outputs": [],
   "source": [
    "c.SourceMeterSetup(Source=\"voltage\", Measure=\"current\", Performance=3)"
   ]
  },
  {
   "cell_type": "code",
   "execution_count": 110,
   "metadata": {
    "collapsed": true
   },
   "outputs": [],
   "source": [
    "c.Source.Voltage.ConfigureSource(Amplitude=5, Range=10, ReadBackState=True)"
   ]
  },
  {
   "cell_type": "code",
   "execution_count": 111,
   "metadata": {
    "collapsed": true
   },
   "outputs": [],
   "source": [
    "c.Source.Voltage.SetCurrentLimit(0.01)"
   ]
  },
  {
   "cell_type": "code",
   "execution_count": 112,
   "metadata": {
    "collapsed": true
   },
   "outputs": [],
   "source": [
    "c.Measure.Current.ConfigureMeasurement(Range=0.05)"
   ]
  },
  {
   "cell_type": "code",
   "execution_count": 113,
   "metadata": {
    "collapsed": true
   },
   "outputs": [],
   "source": [
    "c.Source.SetOutputEnabled(True)"
   ]
  },
  {
   "cell_type": "code",
   "execution_count": 114,
   "metadata": {
    "collapsed": false
   },
   "outputs": [
    {
     "name": "stdout",
     "output_type": "stream",
     "text": [
      "[5.000171, 0.005008554]\n"
     ]
    }
   ],
   "source": [
    "print(c.Measure.Read())  # Returns the sourced and measured value"
   ]
  },
  {
   "cell_type": "code",
   "execution_count": 61,
   "metadata": {
    "collapsed": false
   },
   "outputs": [
    {
     "name": "stdout",
     "output_type": "stream",
     "text": [
      "[5.00019, 'Volt DC']\n",
      "[0.005008271, 'Amp DC']\n"
     ]
    }
   ],
   "source": [
    "print(c.Measure.Fetch(BufferElements=\"SOUR, SOURUNIT\"))  # Fetch data from the previous measurement done by Read()\n",
    "print(c.Measure.Fetch(BufferElements=\"READ, UNIT\"))"
   ]
  },
  {
   "cell_type": "code",
   "execution_count": 62,
   "metadata": {
    "collapsed": true
   },
   "outputs": [],
   "source": [
    "c.Source.Voltage.ConfigureSource(Amplitude=0)\n",
    "c.Source.SetOutputEnabled(False)"
   ]
  },
  {
   "cell_type": "markdown",
   "metadata": {},
   "source": [
    "# Source Voltage, Measure Resistance"
   ]
  },
  {
   "cell_type": "code",
   "execution_count": 63,
   "metadata": {
    "collapsed": true
   },
   "outputs": [],
   "source": [
    "c.SourceMeterSetup(Source=\"voltage\", Measure=\"resistance\", Performance=3)"
   ]
  },
  {
   "cell_type": "code",
   "execution_count": 64,
   "metadata": {
    "collapsed": true
   },
   "outputs": [],
   "source": [
    "c.Source.Voltage.ConfigureSource(Amplitude=5, Range=10, ReadBackState=True)"
   ]
  },
  {
   "cell_type": "code",
   "execution_count": 65,
   "metadata": {
    "collapsed": true
   },
   "outputs": [],
   "source": [
    "c.Measure.Current.ConfigureMeasurement(Range=0.05)"
   ]
  },
  {
   "cell_type": "code",
   "execution_count": 66,
   "metadata": {
    "collapsed": true
   },
   "outputs": [],
   "source": [
    "c.Source.SetOutputEnabled(True)"
   ]
  },
  {
   "cell_type": "code",
   "execution_count": 67,
   "metadata": {
    "collapsed": false
   },
   "outputs": [
    {
     "name": "stdout",
     "output_type": "stream",
     "text": [
      "[5.000185, 998.3309]\n"
     ]
    }
   ],
   "source": [
    "print(c.Measure.Read())  # Returns the sourced and measured value"
   ]
  },
  {
   "cell_type": "code",
   "execution_count": 68,
   "metadata": {
    "collapsed": false
   },
   "outputs": [
    {
     "name": "stdout",
     "output_type": "stream",
     "text": [
      "[5.000185, 'Volt DC']\n",
      "[998.3309, 'Ohm']\n"
     ]
    }
   ],
   "source": [
    "print(c.Measure.Fetch(BufferElements=\"SOUR, SOURUNIT\"))\n",
    "print(c.Measure.Fetch(BufferElements=\"READ, UNIT\"))"
   ]
  },
  {
   "cell_type": "code",
   "execution_count": 69,
   "metadata": {
    "collapsed": true
   },
   "outputs": [],
   "source": [
    "c.Source.Voltage.ConfigureSource(Amplitude=0)\n",
    "c.Source.SetOutputEnabled(False)"
   ]
  },
  {
   "cell_type": "markdown",
   "metadata": {},
   "source": [
    "# Source Voltage, Measure Power"
   ]
  },
  {
   "cell_type": "code",
   "execution_count": 70,
   "metadata": {
    "collapsed": true
   },
   "outputs": [],
   "source": [
    "c.SourceMeterSetup(Source=\"voltage\", Measure=\"power\", Performance=3)"
   ]
  },
  {
   "cell_type": "code",
   "execution_count": 71,
   "metadata": {
    "collapsed": true
   },
   "outputs": [],
   "source": [
    "c.Source.Voltage.ConfigureSource(Amplitude=5, Range=10, ReadBackState=True)"
   ]
  },
  {
   "cell_type": "code",
   "execution_count": 72,
   "metadata": {
    "collapsed": true
   },
   "outputs": [],
   "source": [
    "c.Measure.Current.ConfigureMeasurement(Range=0.05)"
   ]
  },
  {
   "cell_type": "code",
   "execution_count": 73,
   "metadata": {
    "collapsed": true
   },
   "outputs": [],
   "source": [
    "c.Source.SetOutputEnabled(True)"
   ]
  },
  {
   "cell_type": "code",
   "execution_count": 74,
   "metadata": {
    "collapsed": false
   },
   "outputs": [
    {
     "name": "stdout",
     "output_type": "stream",
     "text": [
      "[5.000193, 0.02504251]\n"
     ]
    }
   ],
   "source": [
    "print(c.Measure.Read())  # Returns the sourced and measured value"
   ]
  },
  {
   "cell_type": "code",
   "execution_count": 75,
   "metadata": {
    "collapsed": false,
    "scrolled": false
   },
   "outputs": [
    {
     "name": "stdout",
     "output_type": "stream",
     "text": [
      "[5.000193, 'Volt DC']\n",
      "[0.02504251, 'Watt DC']\n"
     ]
    }
   ],
   "source": [
    "print(c.Measure.Fetch(BufferElements=\"SOUR, SOURUNIT\"))\n",
    "print(c.Measure.Fetch(BufferElements=\"READ, UNIT\"))"
   ]
  },
  {
   "cell_type": "code",
   "execution_count": 76,
   "metadata": {
    "collapsed": true
   },
   "outputs": [],
   "source": [
    "c.Source.Voltage.ConfigureSource(Amplitude=0)\n",
    "c.Source.SetOutputEnabled(False)"
   ]
  },
  {
   "cell_type": "markdown",
   "metadata": {},
   "source": [
    "# Source Current, Measure Voltage"
   ]
  },
  {
   "cell_type": "code",
   "execution_count": 77,
   "metadata": {
    "collapsed": true
   },
   "outputs": [],
   "source": [
    "c.SourceMeterSetup(Source=\"current\", Measure=\"voltage\", Performance=3)"
   ]
  },
  {
   "cell_type": "code",
   "execution_count": 78,
   "metadata": {
    "collapsed": false
   },
   "outputs": [],
   "source": [
    "c.Source.Current.ConfigureSource(Amplitude=0.05, Range=1, ReadBackState=True)"
   ]
  },
  {
   "cell_type": "code",
   "execution_count": 79,
   "metadata": {
    "collapsed": false
   },
   "outputs": [],
   "source": [
    "c.Source.Current.SetVoltageLimit(2)"
   ]
  },
  {
   "cell_type": "code",
   "execution_count": 80,
   "metadata": {
    "collapsed": true
   },
   "outputs": [],
   "source": [
    "c.Measure.Voltage.ConfigureMeasurement(Range=20)"
   ]
  },
  {
   "cell_type": "code",
   "execution_count": 81,
   "metadata": {
    "collapsed": true
   },
   "outputs": [],
   "source": [
    "c.Source.SetOutputEnabled(True)"
   ]
  },
  {
   "cell_type": "code",
   "execution_count": 82,
   "metadata": {
    "collapsed": false
   },
   "outputs": [
    {
     "name": "stdout",
     "output_type": "stream",
     "text": [
      "[0.002113114, 2.120204]\n"
     ]
    }
   ],
   "source": [
    "print(c.Measure.Read())  # Returns the sourced and measured value"
   ]
  },
  {
   "cell_type": "code",
   "execution_count": 83,
   "metadata": {
    "collapsed": false
   },
   "outputs": [
    {
     "name": "stdout",
     "output_type": "stream",
     "text": [
      "[0.002113114, 'Amp DC']\n",
      "[2.120204, 'Volt DC']\n"
     ]
    }
   ],
   "source": [
    "print(c.Measure.Fetch(BufferElements=\"SOUR, SOURUNIT\"))\n",
    "print(c.Measure.Fetch(BufferElements=\"READ, UNIT\"))"
   ]
  },
  {
   "cell_type": "code",
   "execution_count": 84,
   "metadata": {
    "collapsed": true
   },
   "outputs": [],
   "source": [
    "c.Source.Current.ConfigureSource(Amplitude=0)\n",
    "c.Source.SetOutputEnabled(False)"
   ]
  },
  {
   "cell_type": "markdown",
   "metadata": {},
   "source": [
    "# Source Current, Measure Current"
   ]
  },
  {
   "cell_type": "code",
   "execution_count": 85,
   "metadata": {
    "collapsed": true
   },
   "outputs": [],
   "source": [
    "c.SourceMeterSetup(Source=\"current\", Measure=\"current\", Performance=3)"
   ]
  },
  {
   "cell_type": "code",
   "execution_count": 86,
   "metadata": {
    "collapsed": false
   },
   "outputs": [],
   "source": [
    "c.Source.Current.ConfigureSource(Amplitude=0.05, Range=1, ReadBackState=True)"
   ]
  },
  {
   "cell_type": "code",
   "execution_count": 87,
   "metadata": {
    "collapsed": true
   },
   "outputs": [],
   "source": [
    "c.Source.SetOutputEnabled(True)"
   ]
  },
  {
   "cell_type": "code",
   "execution_count": 88,
   "metadata": {
    "collapsed": false
   },
   "outputs": [
    {
     "name": "stdout",
     "output_type": "stream",
     "text": [
      "[0.002136402, 0.002136402]\n"
     ]
    }
   ],
   "source": [
    "print(c.Measure.Read())  # Returns the sourced and measured value"
   ]
  },
  {
   "cell_type": "code",
   "execution_count": 89,
   "metadata": {
    "collapsed": false
   },
   "outputs": [
    {
     "name": "stdout",
     "output_type": "stream",
     "text": [
      "[0.002136402, 'Amp DC']\n",
      "[0.002136402, 'Amp DC']\n"
     ]
    }
   ],
   "source": [
    "print(c.Measure.Fetch(BufferElements=\"SOUR, SOURUNIT\"))\n",
    "print(c.Measure.Fetch(BufferElements=\"READ, UNIT\"))"
   ]
  },
  {
   "cell_type": "code",
   "execution_count": 90,
   "metadata": {
    "collapsed": true
   },
   "outputs": [],
   "source": [
    "c.Source.Current.ConfigureSource(Amplitude=0)\n",
    "c.Source.SetOutputEnabled(False)"
   ]
  },
  {
   "cell_type": "markdown",
   "metadata": {},
   "source": [
    "# Source Current, Measure Resistance"
   ]
  },
  {
   "cell_type": "code",
   "execution_count": 91,
   "metadata": {
    "collapsed": true
   },
   "outputs": [],
   "source": [
    "c.SourceMeterSetup(Source=\"current\", Measure=\"resistance\", Performance=3)"
   ]
  },
  {
   "cell_type": "code",
   "execution_count": 92,
   "metadata": {
    "collapsed": false
   },
   "outputs": [],
   "source": [
    "c.Source.Current.ConfigureSource(Amplitude=0.05, Range=1, ReadBackState=True)"
   ]
  },
  {
   "cell_type": "code",
   "execution_count": 93,
   "metadata": {
    "collapsed": false
   },
   "outputs": [],
   "source": [
    "c.Source.Current.SetVoltageLimit(2)"
   ]
  },
  {
   "cell_type": "code",
   "execution_count": 94,
   "metadata": {
    "collapsed": true
   },
   "outputs": [],
   "source": [
    "c.Measure.Voltage.ConfigureMeasurement(Range=20)"
   ]
  },
  {
   "cell_type": "code",
   "execution_count": 95,
   "metadata": {
    "collapsed": true
   },
   "outputs": [],
   "source": [
    "c.Source.SetOutputEnabled(True)"
   ]
  },
  {
   "cell_type": "code",
   "execution_count": 96,
   "metadata": {
    "collapsed": false
   },
   "outputs": [
    {
     "name": "stdout",
     "output_type": "stream",
     "text": [
      "[0.002014129, 993.0806]\n"
     ]
    }
   ],
   "source": [
    "print(c.Measure.Read())  # Returns the sourced and measured value"
   ]
  },
  {
   "cell_type": "code",
   "execution_count": 97,
   "metadata": {
    "collapsed": false
   },
   "outputs": [
    {
     "name": "stdout",
     "output_type": "stream",
     "text": [
      "[0.002014129, 'Amp DC']\n",
      "[993.0806, 'Ohm']\n"
     ]
    }
   ],
   "source": [
    "print(c.Measure.Fetch(BufferElements=\"SOUR, SOURUNIT\"))\n",
    "print(c.Measure.Fetch(BufferElements=\"READ, UNIT\"))"
   ]
  },
  {
   "cell_type": "code",
   "execution_count": 98,
   "metadata": {
    "collapsed": true
   },
   "outputs": [],
   "source": [
    "c.Source.Current.ConfigureSource(Amplitude=0)\n",
    "c.Source.SetOutputEnabled(False)"
   ]
  },
  {
   "cell_type": "markdown",
   "metadata": {},
   "source": [
    "# Source Current, Measure Power"
   ]
  },
  {
   "cell_type": "code",
   "execution_count": 99,
   "metadata": {
    "collapsed": true
   },
   "outputs": [],
   "source": [
    "c.SourceMeterSetup(Source=\"current\", Measure=\"power\", Performance=3)"
   ]
  },
  {
   "cell_type": "code",
   "execution_count": 100,
   "metadata": {
    "collapsed": false
   },
   "outputs": [],
   "source": [
    "c.Source.Current.ConfigureSource(Amplitude=0.05, Range=1, ReadBackState=True)"
   ]
  },
  {
   "cell_type": "code",
   "execution_count": 101,
   "metadata": {
    "collapsed": false
   },
   "outputs": [],
   "source": [
    "c.Source.Current.SetVoltageLimit(2)"
   ]
  },
  {
   "cell_type": "code",
   "execution_count": 102,
   "metadata": {
    "collapsed": true
   },
   "outputs": [],
   "source": [
    "c.Measure.Voltage.ConfigureMeasurement(Range=20)"
   ]
  },
  {
   "cell_type": "code",
   "execution_count": 103,
   "metadata": {
    "collapsed": true
   },
   "outputs": [],
   "source": [
    "c.Source.SetOutputEnabled(True)"
   ]
  },
  {
   "cell_type": "code",
   "execution_count": 104,
   "metadata": {
    "collapsed": false
   },
   "outputs": [
    {
     "name": "stdout",
     "output_type": "stream",
     "text": [
      "[0.00201995, 0.004040284]\n"
     ]
    }
   ],
   "source": [
    "print(c.Measure.Read())  # Returns the sourced and measured value"
   ]
  },
  {
   "cell_type": "code",
   "execution_count": 105,
   "metadata": {
    "collapsed": false
   },
   "outputs": [
    {
     "name": "stdout",
     "output_type": "stream",
     "text": [
      "[0.00201995, 'Amp DC']\n",
      "[0.004040284, 'Watt DC']\n"
     ]
    }
   ],
   "source": [
    "print(c.Measure.Fetch(BufferElements=\"SOUR, SOURUNIT\"))\n",
    "print(c.Measure.Fetch(BufferElements=\"READ, UNIT\"))"
   ]
  },
  {
   "cell_type": "code",
   "execution_count": 106,
   "metadata": {
    "collapsed": true
   },
   "outputs": [],
   "source": [
    "c.Source.Current.ConfigureSource(Amplitude=0)\n",
    "c.Source.SetOutputEnabled(False)"
   ]
  },
  {
   "cell_type": "markdown",
   "metadata": {
    "collapsed": true
   },
   "source": [
    "# DirectIO"
   ]
  },
  {
   "cell_type": "code",
   "execution_count": 38,
   "metadata": {
    "collapsed": false
   },
   "outputs": [
    {
     "name": "stdout",
     "output_type": "stream",
     "text": [
      "KEITHLEY INSTRUMENTS,MODEL 2450,04314436,1.6.3d\n"
     ]
    }
   ],
   "source": [
    "s.DirectIO.Write(\"*IDN?\")\n",
    "print(s.DirectIO.Read())"
   ]
  },
  {
   "cell_type": "code",
   "execution_count": 39,
   "metadata": {
    "collapsed": false
   },
   "outputs": [
    {
     "name": "stdout",
     "output_type": "stream",
     "text": [
      "KEITHLEY INSTRUMENTS,MODEL 2450,04314436,1.6.3d\n"
     ]
    }
   ],
   "source": [
    "print(s.DirectIO.Query(\"*IDN?\"))"
   ]
  },
  {
   "cell_type": "markdown",
   "metadata": {
    "collapsed": true
   },
   "source": [
    "# Trigger Models"
   ]
  },
  {
   "cell_type": "code",
   "execution_count": 21,
   "metadata": {
    "collapsed": true
   },
   "outputs": [],
   "source": [
    "c.SourceMeterSetup(Source=\"voltage\", Measure=\"voltage\", Performance=3)\n",
    "c.Source.Voltage.SetCurrentLimit(0.1)"
   ]
  },
  {
   "cell_type": "markdown",
   "metadata": {
    "collapsed": true
   },
   "source": [
    "## Trigger Models - Simple Loop"
   ]
  },
  {
   "cell_type": "code",
   "execution_count": 9,
   "metadata": {
    "collapsed": true
   },
   "outputs": [],
   "source": [
    "s.Trigger.ConfigureSimpleLoopTrigger(Count=10, Delay=0.05)"
   ]
  },
  {
   "cell_type": "markdown",
   "metadata": {
    "collapsed": true
   },
   "source": [
    "## Trigger Models - Duration Loop"
   ]
  },
  {
   "cell_type": "code",
   "execution_count": 13,
   "metadata": {
    "collapsed": true
   },
   "outputs": [],
   "source": [
    "s.Trigger.ConfigureDurationLoopTrigger(Duration=2, Delay=0.05)"
   ]
  },
  {
   "cell_type": "markdown",
   "metadata": {
    "collapsed": true
   },
   "source": [
    "## Trigger Models - Sweeps"
   ]
  },
  {
   "cell_type": "code",
   "execution_count": 22,
   "metadata": {
    "collapsed": false
   },
   "outputs": [],
   "source": [
    "c.Source.Voltage.ConfigureLinearSweep(Start=0, Stop=5, Points=20, Delay=0.05)"
   ]
  },
  {
   "cell_type": "code",
   "execution_count": 26,
   "metadata": {
    "collapsed": true
   },
   "outputs": [],
   "source": [
    "c.Source.Voltage.ConfigureLinearSweepStep(Start=0, Stop=5, Step=0.1, Delay=0.05)"
   ]
  },
  {
   "cell_type": "code",
   "execution_count": 30,
   "metadata": {
    "collapsed": false
   },
   "outputs": [],
   "source": [
    "c.Source.Voltage.ConfigureLogarithmicSweep(Start=0.01, Stop=5, Points=20, Delay=0.05)"
   ]
  },
  {
   "cell_type": "code",
   "execution_count": 34,
   "metadata": {
    "collapsed": true
   },
   "outputs": [],
   "source": [
    "c.Source.Voltage.ConfigureListSweep(Values=[0, 1, 2, 3, 4, 5], Ranges=None, Delay=0.2)"
   ]
  },
  {
   "cell_type": "markdown",
   "metadata": {
    "collapsed": true
   },
   "source": [
    "## Trigger Models - Initiate and get waveforms"
   ]
  },
  {
   "cell_type": "code",
   "execution_count": 35,
   "metadata": {
    "collapsed": true
   },
   "outputs": [],
   "source": [
    "s.Trigger.Initiate()\n",
    "s.Trigger.Wait4Idle(10)"
   ]
  },
  {
   "cell_type": "code",
   "execution_count": 36,
   "metadata": {
    "collapsed": false
   },
   "outputs": [
    {
     "data": {
      "image/png": "[encoded data removed]",
      "text/plain": [
       "<matplotlib.figure.Figure at 0xc9b6e80>"
      ]
     },
     "metadata": {},
     "output_type": "display_data"
    }
   ],
   "source": [
    "c.Measure.Trace.GetSourceWaveform().plot(\"ro-\")"
   ]
  },
  {
   "cell_type": "code",
   "execution_count": 37,
   "metadata": {
    "collapsed": false
   },
   "outputs": [
    {
     "data": {
      "image/png": "[encoded data removed]",
      "text/plain": [
       "<matplotlib.figure.Figure at 0xca3d710>"
      ]
     },
     "metadata": {},
     "output_type": "display_data"
    }
   ],
   "source": [
    "c.Measure.Trace.GetReadingWaveform().plot(\"bo-\")"
   ]
  },
  {
   "cell_type": "code",
   "execution_count": null,
   "metadata": {
    "collapsed": false
   },
   "outputs": [],
   "source": [
    "print(\"Average:   %s\" % c.Measure.Trace.GetAverageReading())\n",
    "print(\"Maximum:   %s\" % c.Measure.Trace.GetMaximumReading())\n",
    "print(\"Minimum:   %s\" % c.Measure.Trace.GetMinimumReading())\n",
    "print(\"Peak2Peak: %s\" % c.Measure.Trace.GetPeak2PeakReading())\n",
    "print(\"SDev:      %s\" % c.Measure.Trace.GetSDevReading())"
   ]
  },
  {
   "cell_type": "code",
   "execution_count": null,
   "metadata": {
    "collapsed": false
   },
   "outputs": [],
   "source": [
    "c.Measure.Trace.GetData(BufferElements=\"SOUR, UNIT\", Transposed=False)"
   ]
  },
  {
   "cell_type": "code",
   "execution_count": null,
   "metadata": {
    "collapsed": true
   },
   "outputs": [],
   "source": []
  },
  {
   "cell_type": "code",
   "execution_count": null,
   "metadata": {
    "collapsed": true
   },
   "outputs": [],
   "source": []
  }
 ],
 "metadata": {
  "kernelspec": {
   "display_name": "Python 3",
   "language": "python",
   "name": "python3"
  },
  "language_info": {
   "codemirror_mode": {
    "name": "ipython",
    "version": 3
   },
   "file_extension": ".py",
   "mimetype": "text/x-python",
   "name": "python",
   "nbconvert_exporter": "python",
   "pygments_lexer": "ipython3",
   "version": "3.4.4"
  }
 },
 "nbformat": 4,
 "nbformat_minor": 0
}
