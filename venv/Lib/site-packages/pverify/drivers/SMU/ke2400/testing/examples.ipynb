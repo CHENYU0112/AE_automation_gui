{
 "cells": [
  {
   "cell_type": "code",
   "execution_count": 1,
   "metadata": {
    "ExecuteTime": {
     "end_time": "2018-05-03T06:13:38.372054Z",
     "start_time": "2018-05-03T06:13:37.625054Z"
    },
    "collapsed": true
   },
   "outputs": [],
   "source": [
    "%matplotlib inline\n",
    "%load_ext autoreload\n",
    "%autoreload 2"
   ]
  },
  {
   "cell_type": "code",
   "execution_count": 2,
   "metadata": {
    "ExecuteTime": {
     "end_time": "2018-05-03T06:13:38.584054Z",
     "start_time": "2018-05-03T06:13:38.479054Z"
    },
    "collapsed": true
   },
   "outputs": [],
   "source": [
    "import sys\n",
    "sys.path.insert(0, r\"C:\\Inicio_dev\\sysver\\PyVerify\")"
   ]
  },
  {
   "cell_type": "code",
   "execution_count": 3,
   "metadata": {
    "ExecuteTime": {
     "end_time": "2018-05-03T06:13:40.313054Z",
     "start_time": "2018-05-03T06:13:38.684054Z"
    }
   },
   "outputs": [
    {
     "name": "stdout",
     "output_type": "stream",
     "text": [
      "Sending statpro information about feature: pyverify_import\n"
     ]
    }
   ],
   "source": [
    "from pverify.drivers.SMU.ke2400.ke2400 import *"
   ]
  },
  {
   "cell_type": "code",
   "execution_count": 4,
   "metadata": {
    "ExecuteTime": {
     "end_time": "2018-05-03T06:13:41.028054Z",
     "start_time": "2018-05-03T06:13:40.488054Z"
    },
    "collapsed": true
   },
   "outputs": [],
   "source": [
    "s = ke2400()\n",
    "s.Initialize(\"GPIB0::24::INSTR\", True, True)\n",
    "c = s.GetChannel(1)"
   ]
  },
  {
   "cell_type": "code",
   "execution_count": 5,
   "metadata": {
    "ExecuteTime": {
     "end_time": "2018-05-03T06:13:41.397054Z",
     "start_time": "2018-05-03T06:13:41.201054Z"
    },
    "collapsed": true
   },
   "outputs": [],
   "source": [
    "s.GoToLocal()"
   ]
  },
  {
   "cell_type": "markdown",
   "metadata": {},
   "source": [
    "# Quick Setup"
   ]
  },
  {
   "cell_type": "code",
   "execution_count": 6,
   "metadata": {
    "ExecuteTime": {
     "end_time": "2018-05-03T06:13:43.377054Z",
     "start_time": "2018-05-03T06:13:42.330054Z"
    },
    "collapsed": true
   },
   "outputs": [],
   "source": [
    "c.SourceMeterSetup(Source=\"voltage\", Measure=\"voltage\",    Performance=0)"
   ]
  },
  {
   "cell_type": "code",
   "execution_count": 7,
   "metadata": {
    "ExecuteTime": {
     "end_time": "2018-05-03T06:13:44.616054Z",
     "start_time": "2018-05-03T06:13:43.569054Z"
    },
    "collapsed": true
   },
   "outputs": [],
   "source": [
    "c.SourceMeterSetup(Source=\"voltage\", Measure=\"current\",    Performance=1)"
   ]
  },
  {
   "cell_type": "code",
   "execution_count": 8,
   "metadata": {
    "ExecuteTime": {
     "end_time": "2018-05-03T06:13:45.920054Z",
     "start_time": "2018-05-03T06:13:44.817054Z"
    },
    "collapsed": true
   },
   "outputs": [],
   "source": [
    "c.SourceMeterSetup(Source=\"voltage\", Measure=\"resistance\", Performance=2)"
   ]
  },
  {
   "cell_type": "code",
   "execution_count": 9,
   "metadata": {
    "ExecuteTime": {
     "end_time": "2018-05-03T06:13:46.648054Z",
     "start_time": "2018-05-03T06:13:45.931054Z"
    },
    "collapsed": true
   },
   "outputs": [],
   "source": [
    "c.SourceMeterSetup(Source=\"current\", Measure=\"voltage\",    Performance=4)"
   ]
  },
  {
   "cell_type": "code",
   "execution_count": 10,
   "metadata": {
    "ExecuteTime": {
     "end_time": "2018-05-03T06:13:48.098054Z",
     "start_time": "2018-05-03T06:13:47.057054Z"
    },
    "collapsed": true
   },
   "outputs": [],
   "source": [
    "c.SourceMeterSetup(Source=\"current\", Measure=\"current\",    Performance=5)"
   ]
  },
  {
   "cell_type": "code",
   "execution_count": 11,
   "metadata": {
    "ExecuteTime": {
     "end_time": "2018-05-03T06:13:48.789054Z",
     "start_time": "2018-05-03T06:13:48.102054Z"
    },
    "collapsed": true
   },
   "outputs": [],
   "source": [
    "c.SourceMeterSetup(Source=\"current\", Measure=\"resistance\", Performance=6)"
   ]
  },
  {
   "cell_type": "code",
   "execution_count": 12,
   "metadata": {
    "ExecuteTime": {
     "end_time": "2018-05-03T06:13:49.555054Z",
     "start_time": "2018-05-03T06:13:49.304054Z"
    },
    "collapsed": true
   },
   "outputs": [],
   "source": [
    "s.CheckError()"
   ]
  },
  {
   "cell_type": "markdown",
   "metadata": {},
   "source": [
    "# Source Voltage, Measure Voltage"
   ]
  },
  {
   "cell_type": "code",
   "execution_count": 13,
   "metadata": {
    "ExecuteTime": {
     "end_time": "2018-05-03T06:13:53.157054Z",
     "start_time": "2018-05-03T06:13:52.124054Z"
    },
    "collapsed": true
   },
   "outputs": [],
   "source": [
    "c.SourceMeterSetup(Source=\"voltage\", Measure=\"voltage\", Performance=3)"
   ]
  },
  {
   "cell_type": "code",
   "execution_count": 14,
   "metadata": {
    "ExecuteTime": {
     "end_time": "2018-05-03T06:13:53.887054Z",
     "start_time": "2018-05-03T06:13:53.356054Z"
    },
    "collapsed": true
   },
   "outputs": [],
   "source": [
    "c.Source.Voltage.ConfigureSource(Amplitude=5, Range=10)"
   ]
  },
  {
   "cell_type": "code",
   "execution_count": 15,
   "metadata": {
    "ExecuteTime": {
     "end_time": "2018-05-03T06:13:54.370054Z",
     "start_time": "2018-05-03T06:13:54.138054Z"
    },
    "collapsed": true
   },
   "outputs": [],
   "source": [
    "c.Source.Voltage.SetCurrentLimit(0.2)"
   ]
  },
  {
   "cell_type": "code",
   "execution_count": 16,
   "metadata": {
    "ExecuteTime": {
     "end_time": "2018-05-03T06:13:54.756054Z",
     "start_time": "2018-05-03T06:13:54.574054Z"
    },
    "collapsed": true
   },
   "outputs": [],
   "source": [
    "c.Source.SetOutputEnabled(True)"
   ]
  },
  {
   "cell_type": "code",
   "execution_count": 17,
   "metadata": {
    "ExecuteTime": {
     "end_time": "2018-05-03T06:13:55.222054Z",
     "start_time": "2018-05-03T06:13:54.996054Z"
    }
   },
   "outputs": [
    {
     "name": "stdout",
     "output_type": "stream",
     "text": [
      "[4.999471, 4.999471]\n"
     ]
    }
   ],
   "source": [
    "print(c.Measure.Read())  # Returns the sourced and measured value"
   ]
  },
  {
   "cell_type": "code",
   "execution_count": 18,
   "metadata": {
    "ExecuteTime": {
     "end_time": "2018-05-03T06:13:57.052054Z",
     "start_time": "2018-05-03T06:13:56.847054Z"
    }
   },
   "outputs": [
    {
     "name": "stdout",
     "output_type": "stream",
     "text": [
      "[4.999471, 'Volt DC']\n"
     ]
    }
   ],
   "source": [
    "print(c.Measure.Fetch(BufferElements=\"SOUR, SOURUNIT\"))"
   ]
  },
  {
   "cell_type": "code",
   "execution_count": 19,
   "metadata": {
    "ExecuteTime": {
     "end_time": "2018-05-03T06:13:57.593054Z",
     "start_time": "2018-05-03T06:13:57.379054Z"
    }
   },
   "outputs": [
    {
     "name": "stdout",
     "output_type": "stream",
     "text": [
      "[4.999471, 'Volt DC']\n"
     ]
    }
   ],
   "source": [
    "print(c.Measure.Fetch(BufferElements=\"READ, UNIT\"))"
   ]
  },
  {
   "cell_type": "code",
   "execution_count": 20,
   "metadata": {
    "ExecuteTime": {
     "end_time": "2018-05-03T06:13:59.105054Z",
     "start_time": "2018-05-03T06:13:58.570054Z"
    },
    "collapsed": true
   },
   "outputs": [],
   "source": [
    "c.Source.Voltage.ConfigureSource(Amplitude=0)\n",
    "c.Source.SetOutputEnabled(False)"
   ]
  },
  {
   "cell_type": "markdown",
   "metadata": {},
   "source": [
    "# Source Voltage, Measure Current"
   ]
  },
  {
   "cell_type": "markdown",
   "metadata": {},
   "source": [
    "The performance parameter pre-configures NPLC, Resolution, AutoZeroState and Averaging"
   ]
  },
  {
   "cell_type": "code",
   "execution_count": 21,
   "metadata": {
    "ExecuteTime": {
     "end_time": "2018-05-03T06:14:02.148054Z",
     "start_time": "2018-05-03T06:14:01.105054Z"
    },
    "collapsed": true
   },
   "outputs": [],
   "source": [
    "c.SourceMeterSetup(Source=\"voltage\", Measure=\"current\", Performance=3)"
   ]
  },
  {
   "cell_type": "code",
   "execution_count": 22,
   "metadata": {
    "ExecuteTime": {
     "end_time": "2018-05-03T06:14:02.913054Z",
     "start_time": "2018-05-03T06:14:02.351054Z"
    },
    "collapsed": true
   },
   "outputs": [],
   "source": [
    "c.Source.Voltage.ConfigureSource(Amplitude=5, Range=10)"
   ]
  },
  {
   "cell_type": "code",
   "execution_count": 23,
   "metadata": {
    "ExecuteTime": {
     "end_time": "2018-05-03T06:14:03.370054Z",
     "start_time": "2018-05-03T06:14:03.112054Z"
    },
    "collapsed": true
   },
   "outputs": [],
   "source": [
    "c.Source.Voltage.SetCurrentLimit(0.05)"
   ]
  },
  {
   "cell_type": "code",
   "execution_count": 24,
   "metadata": {
    "ExecuteTime": {
     "end_time": "2018-05-03T06:14:03.841054Z",
     "start_time": "2018-05-03T06:14:03.574054Z"
    },
    "collapsed": true
   },
   "outputs": [],
   "source": [
    "c.Measure.Current.ConfigureMeasurement(Range=0.05)"
   ]
  },
  {
   "cell_type": "code",
   "execution_count": 25,
   "metadata": {
    "ExecuteTime": {
     "end_time": "2018-05-03T06:14:04.257054Z",
     "start_time": "2018-05-03T06:14:04.068054Z"
    },
    "collapsed": true
   },
   "outputs": [],
   "source": [
    "c.Source.SetOutputEnabled(True)"
   ]
  },
  {
   "cell_type": "code",
   "execution_count": 26,
   "metadata": {
    "ExecuteTime": {
     "end_time": "2018-05-03T06:14:04.699054Z",
     "start_time": "2018-05-03T06:14:04.470054Z"
    }
   },
   "outputs": [
    {
     "name": "stdout",
     "output_type": "stream",
     "text": [
      "[4.999481, 0.005006788]\n"
     ]
    }
   ],
   "source": [
    "print(c.Measure.Read())  # Returns the sourced and measured value"
   ]
  },
  {
   "cell_type": "code",
   "execution_count": 27,
   "metadata": {
    "ExecuteTime": {
     "end_time": "2018-05-03T06:14:05.167054Z",
     "start_time": "2018-05-03T06:14:04.903054Z"
    }
   },
   "outputs": [
    {
     "name": "stdout",
     "output_type": "stream",
     "text": [
      "[4.999481, 'Volt DC']\n",
      "[0.005006788, 'Amp DC']\n"
     ]
    }
   ],
   "source": [
    "print(c.Measure.Fetch(BufferElements=\"SOUR, SOURUNIT\"))  # Fetch data from the previous measurement done by Read()\n",
    "print(c.Measure.Fetch(BufferElements=\"READ, UNIT\"))"
   ]
  },
  {
   "cell_type": "code",
   "execution_count": 28,
   "metadata": {
    "ExecuteTime": {
     "end_time": "2018-05-03T06:14:05.941054Z",
     "start_time": "2018-05-03T06:14:05.392054Z"
    },
    "collapsed": true
   },
   "outputs": [],
   "source": [
    "c.Source.Voltage.ConfigureSource(Amplitude=0)\n",
    "c.Source.SetOutputEnabled(False)"
   ]
  },
  {
   "cell_type": "markdown",
   "metadata": {},
   "source": [
    "# Source Voltage, Measure Resistance"
   ]
  },
  {
   "cell_type": "code",
   "execution_count": 29,
   "metadata": {
    "ExecuteTime": {
     "end_time": "2018-05-03T06:14:09.590054Z",
     "start_time": "2018-05-03T06:14:08.545054Z"
    },
    "collapsed": true
   },
   "outputs": [],
   "source": [
    "c.SourceMeterSetup(Source=\"voltage\", Measure=\"resistance\", Performance=3)"
   ]
  },
  {
   "cell_type": "code",
   "execution_count": 30,
   "metadata": {
    "ExecuteTime": {
     "end_time": "2018-05-03T06:14:11.512054Z",
     "start_time": "2018-05-03T06:14:10.985054Z"
    },
    "collapsed": true
   },
   "outputs": [],
   "source": [
    "c.Source.Voltage.ConfigureSource(Amplitude=5, Range=10)"
   ]
  },
  {
   "cell_type": "code",
   "execution_count": 31,
   "metadata": {
    "ExecuteTime": {
     "end_time": "2018-05-03T06:14:12.475054Z",
     "start_time": "2018-05-03T06:14:12.238054Z"
    },
    "collapsed": true
   },
   "outputs": [],
   "source": [
    "c.Measure.Current.ConfigureMeasurement(Range=0.05)"
   ]
  },
  {
   "cell_type": "code",
   "execution_count": 32,
   "metadata": {
    "ExecuteTime": {
     "end_time": "2018-05-03T06:14:13.418054Z",
     "start_time": "2018-05-03T06:14:13.264054Z"
    },
    "collapsed": true
   },
   "outputs": [],
   "source": [
    "c.Source.SetOutputEnabled(True)"
   ]
  },
  {
   "cell_type": "code",
   "execution_count": 33,
   "metadata": {
    "ExecuteTime": {
     "end_time": "2018-05-03T06:14:14.011054Z",
     "start_time": "2018-05-03T06:14:13.777054Z"
    }
   },
   "outputs": [
    {
     "name": "stdout",
     "output_type": "stream",
     "text": [
      "[4.99951, 998.5085]\n"
     ]
    }
   ],
   "source": [
    "print(c.Measure.Read())  # Returns the sourced and measured value"
   ]
  },
  {
   "cell_type": "code",
   "execution_count": 34,
   "metadata": {
    "ExecuteTime": {
     "end_time": "2018-05-03T06:14:14.565054Z",
     "start_time": "2018-05-03T06:14:14.324054Z"
    }
   },
   "outputs": [
    {
     "name": "stdout",
     "output_type": "stream",
     "text": [
      "[4.99951, 'Volt DC']\n",
      "[998.5085, 'Ohm']\n"
     ]
    }
   ],
   "source": [
    "print(c.Measure.Fetch(BufferElements=\"SOUR, SOURUNIT\"))\n",
    "print(c.Measure.Fetch(BufferElements=\"READ, UNIT\"))"
   ]
  },
  {
   "cell_type": "code",
   "execution_count": 35,
   "metadata": {
    "ExecuteTime": {
     "end_time": "2018-05-03T06:14:15.386054Z",
     "start_time": "2018-05-03T06:14:14.861054Z"
    },
    "collapsed": true
   },
   "outputs": [],
   "source": [
    "c.Source.Voltage.ConfigureSource(Amplitude=0)\n",
    "c.Source.SetOutputEnabled(False)"
   ]
  },
  {
   "cell_type": "markdown",
   "metadata": {},
   "source": [
    "# Source Current, Measure Voltage"
   ]
  },
  {
   "cell_type": "code",
   "execution_count": 36,
   "metadata": {
    "ExecuteTime": {
     "end_time": "2018-05-03T06:14:16.723054Z",
     "start_time": "2018-05-03T06:14:16.019054Z"
    },
    "collapsed": true
   },
   "outputs": [],
   "source": [
    "c.SourceMeterSetup(Source=\"current\", Measure=\"voltage\", Performance=3)"
   ]
  },
  {
   "cell_type": "code",
   "execution_count": 37,
   "metadata": {
    "ExecuteTime": {
     "end_time": "2018-05-03T06:14:17.451054Z",
     "start_time": "2018-05-03T06:14:16.918054Z"
    },
    "collapsed": true
   },
   "outputs": [],
   "source": [
    "c.Source.Current.ConfigureSource(Amplitude=0.05, Range=1)"
   ]
  },
  {
   "cell_type": "code",
   "execution_count": 38,
   "metadata": {
    "ExecuteTime": {
     "end_time": "2018-05-03T06:14:17.882054Z",
     "start_time": "2018-05-03T06:14:17.639054Z"
    },
    "collapsed": true
   },
   "outputs": [],
   "source": [
    "c.Source.Current.SetVoltageLimit(20)"
   ]
  },
  {
   "cell_type": "code",
   "execution_count": 39,
   "metadata": {
    "ExecuteTime": {
     "end_time": "2018-05-03T06:14:18.318054Z",
     "start_time": "2018-05-03T06:14:18.081054Z"
    },
    "collapsed": true
   },
   "outputs": [],
   "source": [
    "c.Measure.Voltage.ConfigureMeasurement(Range=20)"
   ]
  },
  {
   "cell_type": "code",
   "execution_count": 40,
   "metadata": {
    "ExecuteTime": {
     "end_time": "2018-05-03T06:14:18.672054Z",
     "start_time": "2018-05-03T06:14:18.501054Z"
    },
    "collapsed": true
   },
   "outputs": [],
   "source": [
    "c.Source.SetOutputEnabled(True)"
   ]
  },
  {
   "cell_type": "code",
   "execution_count": 41,
   "metadata": {
    "ExecuteTime": {
     "end_time": "2018-05-03T06:14:19.093054Z",
     "start_time": "2018-05-03T06:14:18.865054Z"
    }
   },
   "outputs": [
    {
     "name": "stdout",
     "output_type": "stream",
     "text": [
      "[0.02005609, 19.99931]\n"
     ]
    }
   ],
   "source": [
    "print(c.Measure.Read())  # Returns the sourced and measured value"
   ]
  },
  {
   "cell_type": "code",
   "execution_count": 42,
   "metadata": {
    "ExecuteTime": {
     "end_time": "2018-05-03T06:14:19.510054Z",
     "start_time": "2018-05-03T06:14:19.286054Z"
    }
   },
   "outputs": [
    {
     "name": "stdout",
     "output_type": "stream",
     "text": [
      "[0.02005609, 'Amp DC']\n",
      "[19.99931, 'Volt DC']\n"
     ]
    }
   ],
   "source": [
    "print(c.Measure.Fetch(BufferElements=\"SOUR, SOURUNIT\"))\n",
    "print(c.Measure.Fetch(BufferElements=\"READ, UNIT\"))"
   ]
  },
  {
   "cell_type": "code",
   "execution_count": 43,
   "metadata": {
    "ExecuteTime": {
     "end_time": "2018-05-03T06:14:20.204054Z",
     "start_time": "2018-05-03T06:14:19.689054Z"
    }
   },
   "outputs": [],
   "source": [
    "c.Source.Current.ConfigureSource(Amplitude=0)\n",
    "c.Source.SetOutputEnabled(False)"
   ]
  },
  {
   "cell_type": "markdown",
   "metadata": {},
   "source": [
    "# Source Current, Measure Current"
   ]
  },
  {
   "cell_type": "code",
   "execution_count": 44,
   "metadata": {
    "ExecuteTime": {
     "end_time": "2018-05-03T06:14:21.450054Z",
     "start_time": "2018-05-03T06:14:20.405054Z"
    },
    "collapsed": true
   },
   "outputs": [],
   "source": [
    "c.SourceMeterSetup(Source=\"current\", Measure=\"current\", Performance=3)"
   ]
  },
  {
   "cell_type": "code",
   "execution_count": 45,
   "metadata": {
    "ExecuteTime": {
     "end_time": "2018-05-03T06:14:22.192054Z",
     "start_time": "2018-05-03T06:14:21.659054Z"
    },
    "collapsed": true
   },
   "outputs": [],
   "source": [
    "c.Source.Current.ConfigureSource(Amplitude=0.05, Range=1)"
   ]
  },
  {
   "cell_type": "code",
   "execution_count": 46,
   "metadata": {
    "ExecuteTime": {
     "end_time": "2018-05-03T06:14:22.562054Z",
     "start_time": "2018-05-03T06:14:22.387054Z"
    },
    "collapsed": true
   },
   "outputs": [],
   "source": [
    "c.Source.SetOutputEnabled(True)"
   ]
  },
  {
   "cell_type": "code",
   "execution_count": 47,
   "metadata": {
    "ExecuteTime": {
     "end_time": "2018-05-03T06:14:22.956054Z",
     "start_time": "2018-05-03T06:14:22.747054Z"
    }
   },
   "outputs": [
    {
     "name": "stdout",
     "output_type": "stream",
     "text": [
      "[0.02006456, 0.02006456]\n"
     ]
    }
   ],
   "source": [
    "print(c.Measure.Read())  # Returns the sourced and measured value"
   ]
  },
  {
   "cell_type": "code",
   "execution_count": 48,
   "metadata": {
    "ExecuteTime": {
     "end_time": "2018-05-03T06:14:23.387054Z",
     "start_time": "2018-05-03T06:14:23.149054Z"
    }
   },
   "outputs": [
    {
     "name": "stdout",
     "output_type": "stream",
     "text": [
      "[0.02006456, 'Amp DC']\n",
      "[0.02006456, 'Amp DC']\n"
     ]
    }
   ],
   "source": [
    "print(c.Measure.Fetch(BufferElements=\"SOUR, SOURUNIT\"))\n",
    "print(c.Measure.Fetch(BufferElements=\"READ, UNIT\"))"
   ]
  },
  {
   "cell_type": "code",
   "execution_count": 49,
   "metadata": {
    "ExecuteTime": {
     "end_time": "2018-05-03T06:14:24.111054Z",
     "start_time": "2018-05-03T06:14:23.579054Z"
    },
    "collapsed": true
   },
   "outputs": [],
   "source": [
    "c.Source.Current.ConfigureSource(Amplitude=0)\n",
    "c.Source.SetOutputEnabled(False)"
   ]
  },
  {
   "cell_type": "markdown",
   "metadata": {},
   "source": [
    "# Source Current, Measure Resistance"
   ]
  },
  {
   "cell_type": "code",
   "execution_count": 50,
   "metadata": {
    "ExecuteTime": {
     "end_time": "2018-05-03T06:14:25.463054Z",
     "start_time": "2018-05-03T06:14:24.747054Z"
    },
    "collapsed": true
   },
   "outputs": [],
   "source": [
    "c.SourceMeterSetup(Source=\"current\", Measure=\"resistance\", Performance=3)"
   ]
  },
  {
   "cell_type": "code",
   "execution_count": 51,
   "metadata": {
    "ExecuteTime": {
     "end_time": "2018-05-03T06:14:26.179054Z",
     "start_time": "2018-05-03T06:14:25.647054Z"
    },
    "collapsed": true
   },
   "outputs": [],
   "source": [
    "c.Source.Current.ConfigureSource(Amplitude=0.05, Range=1)"
   ]
  },
  {
   "cell_type": "code",
   "execution_count": 52,
   "metadata": {
    "ExecuteTime": {
     "end_time": "2018-05-03T06:14:26.663054Z",
     "start_time": "2018-05-03T06:14:26.414054Z"
    },
    "collapsed": true
   },
   "outputs": [],
   "source": [
    "c.Source.Current.SetVoltageLimit(20)"
   ]
  },
  {
   "cell_type": "code",
   "execution_count": 53,
   "metadata": {
    "ExecuteTime": {
     "end_time": "2018-05-03T06:14:27.131054Z",
     "start_time": "2018-05-03T06:14:26.895054Z"
    },
    "collapsed": true
   },
   "outputs": [],
   "source": [
    "c.Measure.Voltage.ConfigureMeasurement(Range=20)"
   ]
  },
  {
   "cell_type": "code",
   "execution_count": 54,
   "metadata": {
    "ExecuteTime": {
     "end_time": "2018-05-03T06:14:27.521054Z",
     "start_time": "2018-05-03T06:14:27.360054Z"
    },
    "collapsed": true
   },
   "outputs": [],
   "source": [
    "c.Source.SetOutputEnabled(True)"
   ]
  },
  {
   "cell_type": "code",
   "execution_count": 55,
   "metadata": {
    "ExecuteTime": {
     "end_time": "2018-05-03T06:14:28.145054Z",
     "start_time": "2018-05-03T06:14:27.923054Z"
    }
   },
   "outputs": [
    {
     "name": "stdout",
     "output_type": "stream",
     "text": [
      "[0.0200391, 998.0125]\n"
     ]
    }
   ],
   "source": [
    "print(c.Measure.Read())  # Returns the sourced and measured value"
   ]
  },
  {
   "cell_type": "code",
   "execution_count": 56,
   "metadata": {
    "ExecuteTime": {
     "end_time": "2018-05-03T06:14:28.649054Z",
     "start_time": "2018-05-03T06:14:28.392054Z"
    }
   },
   "outputs": [
    {
     "name": "stdout",
     "output_type": "stream",
     "text": [
      "[0.0200391, 'Amp DC']\n",
      "[998.0125, 'Ohm']\n"
     ]
    }
   ],
   "source": [
    "print(c.Measure.Fetch(BufferElements=\"SOUR, SOURUNIT\"))\n",
    "print(c.Measure.Fetch(BufferElements=\"READ, UNIT\"))"
   ]
  },
  {
   "cell_type": "code",
   "execution_count": 57,
   "metadata": {
    "ExecuteTime": {
     "end_time": "2018-05-03T06:14:29.486054Z",
     "start_time": "2018-05-03T06:14:28.945054Z"
    },
    "collapsed": true
   },
   "outputs": [],
   "source": [
    "c.Source.Current.ConfigureSource(Amplitude=0)\n",
    "c.Source.SetOutputEnabled(False)"
   ]
  },
  {
   "cell_type": "markdown",
   "metadata": {
    "collapsed": true
   },
   "source": [
    "# DirectIO"
   ]
  },
  {
   "cell_type": "code",
   "execution_count": 58,
   "metadata": {
    "ExecuteTime": {
     "end_time": "2018-05-03T06:15:05.443054Z",
     "start_time": "2018-05-03T06:15:05.254054Z"
    }
   },
   "outputs": [
    {
     "name": "stdout",
     "output_type": "stream",
     "text": [
      "KEITHLEY INSTRUMENTS INC.,MODEL 2400,0822568,C21   Nov  7 2000 12:51:38/A02  /H/H\n",
      "\n"
     ]
    }
   ],
   "source": [
    "s.DirectIO.Write(\"*IDN?\")\n",
    "print(s.DirectIO.Read())"
   ]
  },
  {
   "cell_type": "code",
   "execution_count": 59,
   "metadata": {
    "ExecuteTime": {
     "end_time": "2018-05-03T06:15:05.970054Z",
     "start_time": "2018-05-03T06:15:05.794054Z"
    }
   },
   "outputs": [
    {
     "name": "stdout",
     "output_type": "stream",
     "text": [
      "KEITHLEY INSTRUMENTS INC.,MODEL 2400,0822568,C21   Nov  7 2000 12:51:38/A02  /H/H\n"
     ]
    }
   ],
   "source": [
    "print(s.DirectIO.Query(\"*IDN?\"))"
   ]
  },
  {
   "cell_type": "markdown",
   "metadata": {
    "collapsed": true
   },
   "source": [
    "# Trigger Models"
   ]
  },
  {
   "cell_type": "code",
   "execution_count": 60,
   "metadata": {
    "ExecuteTime": {
     "end_time": "2018-05-03T06:15:08.376054Z",
     "start_time": "2018-05-03T06:15:07.263054Z"
    },
    "collapsed": true
   },
   "outputs": [],
   "source": [
    "c.SourceMeterSetup(Source=\"voltage\", Measure=\"voltage\", Performance=3)\n",
    "c.Source.Voltage.SetCurrentLimit(0.1)\n",
    "c.Source.SetOutputEnabled(True)"
   ]
  },
  {
   "cell_type": "markdown",
   "metadata": {
    "collapsed": true
   },
   "source": [
    "## Trigger Models - Simple Loop"
   ]
  },
  {
   "cell_type": "code",
   "execution_count": null,
   "metadata": {
    "ExecuteTime": {
     "end_time": "2018-05-03T06:15:11.889054Z",
     "start_time": "2018-05-03T06:15:11.669054Z"
    },
    "collapsed": true
   },
   "outputs": [],
   "source": [
    "s.Trigger.ConfigureSimpleLoopTrigger(Count=10, Delay=0.05)"
   ]
  },
  {
   "cell_type": "markdown",
   "metadata": {
    "collapsed": true
   },
   "source": [
    "## Trigger Models - Duration Loop"
   ]
  },
  {
   "cell_type": "code",
   "execution_count": null,
   "metadata": {
    "ExecuteTime": {
     "end_time": "2018-05-03T06:15:26.261054Z",
     "start_time": "2018-05-03T06:15:26.077054Z"
    },
    "collapsed": true
   },
   "outputs": [],
   "source": [
    "s.Trigger.ConfigureDurationLoopTrigger(Duration=2, Delay=0.05)"
   ]
  },
  {
   "cell_type": "markdown",
   "metadata": {
    "collapsed": true
   },
   "source": [
    "## Trigger Models - Sweeps"
   ]
  },
  {
   "cell_type": "code",
   "execution_count": 61,
   "metadata": {
    "ExecuteTime": {
     "end_time": "2018-05-03T06:15:51.982054Z",
     "start_time": "2018-05-03T06:15:51.623054Z"
    },
    "collapsed": true
   },
   "outputs": [],
   "source": [
    "c.Source.Voltage.ConfigureLinearSweep(Start=0, Stop=5, Points=20, Delay=0.05)"
   ]
  },
  {
   "cell_type": "code",
   "execution_count": null,
   "metadata": {
    "ExecuteTime": {
     "end_time": "2018-05-03T06:15:57.573054Z",
     "start_time": "2018-05-03T06:15:57.230054Z"
    },
    "collapsed": true
   },
   "outputs": [],
   "source": [
    "c.Source.Voltage.ConfigureLinearSweepStep(Start=0, Stop=5, Step=0.1, Delay=0.05)"
   ]
  },
  {
   "cell_type": "code",
   "execution_count": null,
   "metadata": {
    "ExecuteTime": {
     "end_time": "2018-05-03T06:16:05.903054Z",
     "start_time": "2018-05-03T06:16:05.517054Z"
    },
    "collapsed": true
   },
   "outputs": [],
   "source": [
    "c.Source.Voltage.ConfigureLogarithmicSweep(Start=0.01, Stop=5, Points=20, Delay=0.05)"
   ]
  },
  {
   "cell_type": "code",
   "execution_count": null,
   "metadata": {
    "ExecuteTime": {
     "end_time": "2018-05-03T06:16:11.411054Z",
     "start_time": "2018-05-03T06:16:11.070054Z"
    },
    "collapsed": true
   },
   "outputs": [],
   "source": [
    "c.Source.Voltage.ConfigureListSweep(Values=[0, 1, 2, 3, 4, 5], Ranges=None, Delay=0.2)"
   ]
  },
  {
   "cell_type": "markdown",
   "metadata": {
    "collapsed": true
   },
   "source": [
    "## Trigger Models - Initiate and get waveforms"
   ]
  },
  {
   "cell_type": "code",
   "execution_count": 62,
   "metadata": {
    "ExecuteTime": {
     "end_time": "2018-05-03T06:16:13.550054Z",
     "start_time": "2018-05-03T06:16:12.012054Z"
    }
   },
   "outputs": [
    {
     "name": "stdout",
     "output_type": "stream",
     "text": [
      "[-3.158679e-05, 0.2630568, 0.5262309, 0.7893702, 1.052574, 1.31574, 1.57885, 1.841972, 2.105267, 2.368067, 2.630767, 2.894032, 3.157613, 3.420864, 3.684123, 3.948053, 4.210889, 4.473719, 4.736792, 4.999523]\n"
     ]
    }
   ],
   "source": [
    "s.Trigger.Initiate()\n",
    "s.Trigger.Wait4Idle(10)\n",
    "print(c.Measure.Fetch(\"SOUR\"))"
   ]
  },
  {
   "cell_type": "code",
   "execution_count": 63,
   "metadata": {
    "ExecuteTime": {
     "end_time": "2018-05-03T06:16:14.298054Z",
     "start_time": "2018-05-03T06:16:13.770054Z"
    }
   },
   "outputs": [
    {
     "data": {
      "image/png": "[encoded data removed]",
      "text/plain": [
       "<matplotlib.figure.Figure at 0xbfe7208>"
      ]
     },
     "metadata": {},
     "output_type": "display_data"
    }
   ],
   "source": [
    "c.Measure.Trace.GetSourceWaveform().plot(\"ro-\")"
   ]
  },
  {
   "cell_type": "code",
   "execution_count": 64,
   "metadata": {
    "ExecuteTime": {
     "end_time": "2018-05-03T06:16:15.149054Z",
     "start_time": "2018-05-03T06:16:14.709054Z"
    }
   },
   "outputs": [
    {
     "data": {
      "image/png": "[encoded data removed]",
      "text/plain": [
       "<matplotlib.figure.Figure at 0xcaac550>"
      ]
     },
     "metadata": {},
     "output_type": "display_data"
    }
   ],
   "source": [
    "c.Measure.Trace.GetReadingWaveform().plot(\"bo-\")"
   ]
  },
  {
   "cell_type": "code",
   "execution_count": 65,
   "metadata": {
    "ExecuteTime": {
     "end_time": "2018-05-03T06:16:17.433054Z",
     "start_time": "2018-05-03T06:16:16.866054Z"
    }
   },
   "outputs": [
    {
     "name": "stdout",
     "output_type": "stream",
     "text": [
      "Average:   2.49987356566\n",
      "Maximum:   4.999523\n",
      "Minimum:   -3.158679e-05\n",
      "Peak2Peak: 4.99955458679\n",
      "SDev:      1.51746032188\n"
     ]
    }
   ],
   "source": [
    "print(\"Average:   %s\" % c.Measure.Trace.GetAverageReading())\n",
    "print(\"Maximum:   %s\" % c.Measure.Trace.GetMaximumReading())\n",
    "print(\"Minimum:   %s\" % c.Measure.Trace.GetMinimumReading())\n",
    "print(\"Peak2Peak: %s\" % c.Measure.Trace.GetPeak2PeakReading())\n",
    "print(\"SDev:      %s\" % c.Measure.Trace.GetSDevReading())"
   ]
  },
  {
   "cell_type": "code",
   "execution_count": 66,
   "metadata": {
    "ExecuteTime": {
     "end_time": "2018-05-03T06:16:19.508054Z",
     "start_time": "2018-05-03T06:16:19.260054Z"
    },
    "scrolled": true
   },
   "outputs": [
    {
     "data": {
      "text/plain": [
       "[[0.0,\n",
       "  0.06100000000014916,\n",
       "  0.12100000000009459,\n",
       "  0.18100000000004002,\n",
       "  0.23999999999978172,\n",
       "  0.29999999999972715,\n",
       "  0.3589999999999236,\n",
       "  0.41899999999986903,\n",
       "  0.47899999999981446,\n",
       "  0.5389999999997599,\n",
       "  0.5979999999999563,\n",
       "  0.6579999999999018,\n",
       "  0.7179999999998472,\n",
       "  0.7770000000000437,\n",
       "  0.8369999999999891,\n",
       "  0.8959999999997308,\n",
       "  0.956000000000131,\n",
       "  1.0149999999998727,\n",
       "  1.074999999999818,\n",
       "  1.1349999999997635],\n",
       " [-3.158679e-05,\n",
       "  0.2630568,\n",
       "  0.5262309,\n",
       "  0.7893702,\n",
       "  1.052574,\n",
       "  1.31574,\n",
       "  1.57885,\n",
       "  1.841972,\n",
       "  2.105267,\n",
       "  2.368067,\n",
       "  2.630767,\n",
       "  2.894032,\n",
       "  3.157613,\n",
       "  3.420864,\n",
       "  3.684123,\n",
       "  3.948053,\n",
       "  4.210889,\n",
       "  4.473719,\n",
       "  4.736792,\n",
       "  4.999523]]"
      ]
     },
     "execution_count": 66,
     "metadata": {},
     "output_type": "execute_result"
    }
   ],
   "source": [
    "c.Measure.Trace.GetData(BufferElements=\"REL, READ\", Transposed=1)"
   ]
  }
 ],
 "metadata": {
  "kernelspec": {
   "display_name": "Python 3",
   "language": "python",
   "name": "python3"
  },
  "language_info": {
   "codemirror_mode": {
    "name": "ipython",
    "version": 3
   },
   "file_extension": ".py",
   "mimetype": "text/x-python",
   "name": "python",
   "nbconvert_exporter": "python",
   "pygments_lexer": "ipython3",
   "version": "3.6.3"
  },
  "varInspector": {
   "cols": {
    "lenName": 16,
    "lenType": 16,
    "lenVar": 40
   },
   "kernels_config": {
    "python": {
     "delete_cmd_postfix": "",
     "delete_cmd_prefix": "del ",
     "library": "var_list.py",
     "varRefreshCmd": "print(var_dic_list())"
    },
    "r": {
     "delete_cmd_postfix": ") ",
     "delete_cmd_prefix": "rm(",
     "library": "var_list.r",
     "varRefreshCmd": "cat(var_dic_list()) "
    }
   },
   "types_to_exclude": [
    "module",
    "function",
    "builtin_function_or_method",
    "instance",
    "_Feature"
   ],
   "window_display": false
  }
 },
 "nbformat": 4,
 "nbformat_minor": 1
}
