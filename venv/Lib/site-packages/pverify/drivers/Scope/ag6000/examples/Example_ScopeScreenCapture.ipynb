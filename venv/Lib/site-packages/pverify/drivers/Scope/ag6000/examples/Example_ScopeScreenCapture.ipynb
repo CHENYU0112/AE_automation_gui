{
 "cells": [
  {
   "cell_type": "code",
   "execution_count": null,
   "id": "7c92e926-6be3-4b17-bb75-713ba9960830",
   "metadata": {},
   "outputs": [],
   "source": [
    "instr.scope.driver.Arm()\n",
    "time.sleep(2)"
   ]
  },
  {
   "cell_type": "code",
   "execution_count": null,
   "id": "50da8f7e-5b62-4de9-ae35-176852322cc9",
   "metadata": {},
   "outputs": [],
   "source": [
    "ch4 = Signal(\"CH4/BI_RUN\")\n",
    "ch4.waveform = instr._scope.getWaveform(4)\n",
    "time_ticks=ch4.waveform.time\n",
    "df = pd.DataFrame(index = time_ticks )\n",
    "df[ch4.name] = ch4.waveform.data"
   ]
  },
  {
   "cell_type": "code",
   "execution_count": null,
   "id": "ff5080d4-6a7c-4ed5-b9cc-08d8d4eb1a81",
   "metadata": {},
   "outputs": [],
   "source": [
    "ch3 = Signal(\"CH3/DSADC9_AN50\")\n",
    "ch3.waveform = instr._scope.getWaveform(3)\n",
    "df[ch3.name] = ch3.waveform.data"
   ]
  },
  {
   "cell_type": "code",
   "execution_count": null,
   "id": "16c49ec1-f76f-4236-bb69-269ffaa08e1c",
   "metadata": {},
   "outputs": [],
   "source": [
    "ch2 = Signal(\"CH2/DSADC6_AN54\")\n",
    "ch2.waveform = instr._scope.getWaveform(2)\n",
    "df[ch2.name] = ch2.waveform.data"
   ]
  },
  {
   "cell_type": "code",
   "execution_count": null,
   "id": "7117b0dc-636a-4e35-8556-fbe2f5cb8e35",
   "metadata": {},
   "outputs": [],
   "source": [
    "ch1 = Signal(\"CH1/DSADC1_AN46\")\n",
    "ch1.waveform = instr._scope.getWaveform(1)\n",
    "df[ch1.name] = ch1.waveform.data"
   ]
  },
  {
   "cell_type": "code",
   "execution_count": null,
   "id": "d1ab7916-8add-4304-a790-c0a542580b05",
   "metadata": {},
   "outputs": [],
   "source": [
    "axs = df.plot.line(figsize=(12, 8), subplots=True, title=\"DSADC toggling\")\n",
    "\n",
    "for ax in axs:\n",
    "    ax.legend(loc='lower left',  frameon=True)\n",
    "    ax.set_ylabel(\"Level [V]\")\n",
    "    ax.set_xlabel(\"Time [s]\")\n",
    "    ax.set_ylim(ymin = -2.5, ymax = 7) # some space in vertical direction\n",
    "plt.show()\n"
   ]
  },
  {
   "cell_type": "markdown",
   "id": "ba184681-e08b-421a-ab4c-62770110dc58",
   "metadata": {
    "jp-MarkdownHeadingCollapsed": true,
    "tags": []
   },
   "source": [
    "### Even polarity"
   ]
  },
  {
   "cell_type": "code",
   "execution_count": null,
   "id": "bf3cedbf-e9c1-4f27-a06c-ece012d76dc7",
   "metadata": {},
   "outputs": [],
   "source": [
    "instr.scope.driver.Arm()\n",
    "time.sleep(2)"
   ]
  },
  {
   "cell_type": "code",
   "execution_count": null,
   "id": "d55b81b5-6b40-4cab-820c-fad315cf8c61",
   "metadata": {},
   "outputs": [],
   "source": [
    "ch4 = Signal(\"CH4/BI_RUN\")\n",
    "ch4.waveform = instr._scope.getWaveform(4)\n",
    "time_ticks=ch4.waveform.time\n",
    "df = pd.DataFrame(index = time_ticks )\n",
    "df[ch4.name] = ch4.waveform.data"
   ]
  },
  {
   "cell_type": "code",
   "execution_count": null,
   "id": "571c50fd-bdee-46dd-857a-acfef9995485",
   "metadata": {},
   "outputs": [],
   "source": [
    "ch3 = Signal(\"CH3/DSADC9_AN51\")\n",
    "ch3.waveform = instr._scope.getWaveform(3)\n",
    "df[ch3.name] = ch3.waveform.data"
   ]
  },
  {
   "cell_type": "code",
   "execution_count": null,
   "id": "74565992-d0a9-4ed6-be22-4a2cf1144640",
   "metadata": {},
   "outputs": [],
   "source": [
    "ch2 = Signal(\"CH2/DSADC6_AN55\")\n",
    "ch2.waveform = instr._scope.getWaveform(2)\n",
    "df[ch2.name] = ch2.waveform.data"
   ]
  },
  {
   "cell_type": "code",
   "execution_count": null,
   "id": "f44c9ed5-373f-4201-94a9-4b9a03f9c90e",
   "metadata": {},
   "outputs": [],
   "source": [
    "ch1 = Signal(\"CH1/DSADC1_AN47\")\n",
    "ch1.waveform = instr._scope.getWaveform(1)\n",
    "df[ch1.name] = ch1.waveform.data"
   ]
  },
  {
   "cell_type": "code",
   "execution_count": null,
   "id": "61c1cf32-86f3-4c1f-9411-3bfcf47fc11e",
   "metadata": {},
   "outputs": [],
   "source": [
    "axs = df.plot.line(figsize=(12, 8), subplots=True, title=\"DSADC toggling\")\n",
    "\n",
    "for ax in axs:\n",
    "    ax.legend(loc='lower left',  frameon=True)\n",
    "    ax.set_ylabel(\"Level [V]\")\n",
    "    ax.set_xlabel(\"Time [s]\")\n",
    "    ax.set_ylim(ymin = -2.5, ymax = 7) # some space in vertical direction\n",
    "plt.show()\n"
   ]
  },
  {
   "cell_type": "code",
   "execution_count": null,
   "id": "b7a89dd6-17b3-435c-99ec-30319553a29a",
   "metadata": {},
   "outputs": [],
   "source": [
    "instr.scope.driver.Arm()\n",
    "time.sleep(2)"
   ]
  },
  {
   "cell_type": "code",
   "execution_count": null,
   "id": "add729e2-0953-4bc4-98ed-201631b877fa",
   "metadata": {},
   "outputs": [],
   "source": [
    "ch1 = Signal(\"HSPY1_TX_N\")\n",
    "ch1.waveform = instr._scope.getWaveform(1)\n",
    "time_ticks=ch1.waveform.time\n",
    "df = pd.DataFrame(index = time_ticks )\n",
    "df[ch1.name] = ch1.waveform.data"
   ]
  },
  {
   "cell_type": "code",
   "execution_count": null,
   "id": "376c43d8-0065-488d-86f7-5b97ba787489",
   "metadata": {},
   "outputs": [],
   "source": [
    "ch3 = Signal(\"HSPY1_TX_P\")\n",
    "ch3.waveform = instr._scope.getWaveform(3)\n",
    "df[ch3.name] = ch3.waveform.data"
   ]
  },
  {
   "cell_type": "code",
   "execution_count": null,
   "id": "5fac2a6d-b844-4dc2-91b7-83817091233f",
   "metadata": {},
   "outputs": [],
   "source": [
    "axs = df.plot.line(figsize=(12, 8), subplots=True, title=\"HSPHY1 toggling\\nAFTER BI-RUN\")\n",
    "\n",
    "for ax in axs:\n",
    "    ax.legend(loc='lower left',  frameon=True)\n",
    "    ax.set_ylabel(\"Level [V]\")\n",
    "    ax.set_xlabel(\"Time\")\n",
    "    ax.set_ylim(ymin = -0.2, ymax = 0.2) # some space in vertical direction\n",
    "plt.show()\n"
   ]
  },
  {
   "cell_type": "code",
   "execution_count": null,
   "id": "5601c862-1d30-4671-8913-3685fecd11a7",
   "metadata": {},
   "outputs": [],
   "source": [
    "f=ch1.waveform.Measurements_Periodic.frequency(level=0.025, slope=\"rise\",hysteresis=0)"
   ]
  },
  {
   "cell_type": "code",
   "execution_count": null,
   "id": "e18662fc-8f2f-4390-92da-925a7e07cd0d",
   "metadata": {},
   "outputs": [],
   "source": [
    "f=f/10**9"
   ]
  },
  {
   "cell_type": "code",
   "execution_count": null,
   "id": "2284a6c9-d9ed-42df-95a9-19553874d1c2",
   "metadata": {},
   "outputs": [],
   "source": [
    "f\"{f:.2f}GHz\""
   ]
  },
  {
   "cell_type": "code",
   "execution_count": null,
   "id": "419cc7c4-3f26-4e27-8684-1d7ece160400",
   "metadata": {},
   "outputs": [],
   "source": [
    "ch1 = Signal(\"VGATE1_N\")\n",
    "ch1.waveform = instr._scope.getWaveform(1)\n",
    "time_ticks=ch1.waveform.time\n",
    "df = pd.DataFrame(index = time_ticks )\n",
    "df[ch1.name] = ch1.waveform.data"
   ]
  },
  {
   "cell_type": "markdown",
   "id": "0157eac8-e42f-4ad2-bf5b-f0015e9389cc",
   "metadata": {},
   "source": [
    "# The following snippet is useful if a scope driver doesn´t provide a high-level function to fetch the screen data"
   ]
  },
  {
   "cell_type": "markdown",
   "id": "be76e3e3-77f7-43bb-bb06-0cb37507e647",
   "metadata": {},
   "source": [
    "### This is a copy of lc_helper.py, with replaced resource_name to work with USB connected scope\n",
    "Maybe resouce_name should be an argument instead of hardcoded."
   ]
  },
  {
   "cell_type": "code",
   "execution_count": null,
   "id": "c154aa75-9649-4329-b6b1-74e01deb8e89",
   "metadata": {},
   "outputs": [],
   "source": [
    "import pyvisa as _pyvisa\n",
    "from pyvisa.resources.messagebased import MessageBasedResource as _MessageBasedResource\n",
    "\n",
    "_visa_instrument = None\n",
    "\n",
    "def visa_from_simple_instrument(si_instance):\n",
    "    \"\"\"\n",
    "    This method returns a VISA resource instance that shares the session with the supplied IIviInstrument instance.\n",
    "    Repeated calls to this method will return the previously instantiated VISA resource.\n",
    "\n",
    "    Parameters\n",
    "    ----------\n",
    "    si_instance: SimpleInstrument\n",
    "        A SimpleInstrument instance from one of the pverify driver library.\n",
    "\n",
    "    Returns\n",
    "    -------\n",
    "    _visa_instrument: MessageBasedResource\n",
    "        A VISA resource instance.\n",
    "    \"\"\"\n",
    "\n",
    "    global _resource_manager\n",
    "    global _visa_instrument\n",
    "\n",
    "    if _visa_instrument is None:\n",
    "        resource_name = \"USB0\"\n",
    "        _resource_manager = _pyvisa.ResourceManager()\n",
    "        _visa_instrument = _MessageBasedResource(_resource_manager, resource_name)\n",
    "        _visa_instrument.session = si_instance.lld.dllwrap._vi\n",
    "        # Note: changing read_termination to \"\\n\" will break screenshot capturing\n",
    "\n",
    "    return _visa_instrument"
   ]
  },
  {
   "cell_type": "code",
   "execution_count": null,
   "id": "ebc8d61c-081d-444a-9fc1-efc2577fb784",
   "metadata": {},
   "outputs": [],
   "source": [
    "vi_instr = visa_from_simple_instrument(<AN INSTANCE OF SIMPLESCOPE HERE>)"
   ]
  },
  {
   "cell_type": "code",
   "execution_count": null,
   "id": "f97e4398-92ee-4b3d-a2c6-b58b52616c2c",
   "metadata": {},
   "outputs": [],
   "source": [
    "image_data = vi_instr.query_binary_values(\":DISPLAY:DATA? PNG, SCREEN, COLOR\",datatype='B',is_big_endian=False,container=bytearray)"
   ]
  },
  {
   "cell_type": "code",
   "execution_count": null,
   "id": "2380c250-228b-493f-b020-d8b219bbc836",
   "metadata": {},
   "outputs": [],
   "source": [
    "with open(\"screenshot.png\", \"wb\") as fp_screenshot:\n",
    "    fp_screenshot.write(image_data)"
   ]
  },
  {
   "cell_type": "code",
   "execution_count": null,
   "id": "5d23cead-ff44-455b-892b-081049228a2a",
   "metadata": {},
   "outputs": [],
   "source": [
    "ch3 = Signal(\"VGATE1_P\")\n",
    "ch3.waveform = instr._scope.getWaveform(3)\n",
    "df[ch3.name] = ch3.waveform.data"
   ]
  },
  {
   "cell_type": "code",
   "execution_count": null,
   "id": "db2608cc-abc7-4b5e-baaf-4931a7a0813b",
   "metadata": {},
   "outputs": [],
   "source": [
    "axs = df.plot.line(figsize=(12, 8), subplots=True, title=\"PMS VGATE1N/P toggling\")\n",
    "\n",
    "for ax in axs:\n",
    "    ax.legend(loc='lower left',  frameon=True)\n",
    "    ax.set_ylabel(\"Level [V]\")\n",
    "    ax.set_xlabel(\"Time\")\n",
    "    ax.set_ylim(ymin = -1.0, ymax = 8) # some space in vertical direction\n",
    "    ax.text(0.3,1, \"Hello\")\n",
    "plt.show()\n"
   ]
  },
  {
   "cell_type": "code",
   "execution_count": null,
   "id": "f0d170bc",
   "metadata": {},
   "outputs": [],
   "source": [
    "import pyvisa as _pyvisa\n",
    "from pyvisa.resources.messagebased import MessageBasedResource as _MessageBasedResource\n",
    "\n",
    "_visa_instrument = None\n",
    "\n",
    "def visa_from_simple_instrument(si_instance):\n",
    "    \"\"\"\n",
    "    This method returns a VISA resource instance that shares the session with the supplied IIviInstrument instance.\n",
    "    Repeated calls to this method will return the previously instantiated VISA resource.\n",
    "\n",
    "    Parameters\n",
    "    ----------\n",
    "    si_instance: SimpleInstrument\n",
    "        A SimpleInstrument instance from one of the pverify driver library.\n",
    "\n",
    "    Returns\n",
    "    -------\n",
    "    _visa_instrument: MessageBasedResource\n",
    "        A VISA resource instance.\n",
    "    \"\"\"\n",
    "\n",
    "    global _resource_manager\n",
    "    global _visa_instrument\n",
    "\n",
    "    if _visa_instrument is None:\n",
    "        resource_name = \"USB0\"\n",
    "        _resource_manager = _pyvisa.ResourceManager()\n",
    "        _visa_instrument = _MessageBasedResource(_resource_manager, resource_name)\n",
    "        _visa_instrument.session = si_instance.lld.dllwrap._vi\n",
    "        # Note: changing read_termination to \"\\n\" will break screenshot capturing\n",
    "\n",
    "    return _visa_instrument"
   ]
  },
  {
   "cell_type": "code",
   "execution_count": null,
   "id": "c5f35019-4594-4970-b6d3-a1dfbcd5e410",
   "metadata": {},
   "outputs": [],
   "source": [
    "vi_instr = visa_from_simple_instrument(instr.scope.driver)"
   ]
  },
  {
   "cell_type": "code",
   "execution_count": null,
   "id": "802d7493-3747-41a2-89e4-53e10d4abab6",
   "metadata": {},
   "outputs": [],
   "source": [
    "image_data = vi_instr.query_binary_values(\":DISPLAY:DATA? PNG, SCREEN, COLOR\",datatype='B',is_big_endian=False,container=bytearray)"
   ]
  },
  {
   "cell_type": "code",
   "execution_count": null,
   "id": "ca260890-5443-43f3-9d41-79e9c6dd737a",
   "metadata": {},
   "outputs": [],
   "source": [
    "with open(\"screenshot.png\", \"wb\") as fp_screenshot:\n",
    "    fp_screenshot.write(image_data)"
   ]
  },
  {
   "cell_type": "code",
   "execution_count": null,
   "id": "5c119a1f-71cb-4531-b1f4-d1882b92c342",
   "metadata": {},
   "outputs": [],
   "source": []
  }
 ],
 "metadata": {
  "kernelspec": {
   "display_name": "paddle_ipykernel",
   "language": "python",
   "name": "paddle_ipykernel"
  },
  "language_info": {
   "codemirror_mode": {
    "name": "ipython",
    "version": 3
   },
   "file_extension": ".py",
   "mimetype": "text/x-python",
   "name": "python",
   "nbconvert_exporter": "python",
   "pygments_lexer": "ipython3",
   "version": "3.6.5"
  }
 },
 "nbformat": 4,
 "nbformat_minor": 5
}
