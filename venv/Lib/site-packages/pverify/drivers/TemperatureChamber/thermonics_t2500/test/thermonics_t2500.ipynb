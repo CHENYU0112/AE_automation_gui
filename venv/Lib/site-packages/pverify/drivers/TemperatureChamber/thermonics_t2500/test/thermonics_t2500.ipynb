{
 "cells": [
  {
   "cell_type": "markdown",
   "metadata": {},
   "source": [
    "## Init"
   ]
  },
  {
   "cell_type": "code",
   "execution_count": null,
   "metadata": {
    "scrolled": false,
    "collapsed": false
   },
   "outputs": [],
   "source": [
    "%matplotlib inline\n",
    "import sys\n",
    "import os\n",
    "import pandas as pd\n",
    "import math\n",
    "from time import sleep"
   ]
  },
  {
   "cell_type": "code",
   "execution_count": null,
   "metadata": {
    "scrolled": false,
    "collapsed": false
   },
   "outputs": [],
   "source": [
    "import logging\n",
    "logging.basicConfig(stream=sys.stdout, level=logging.INFO,\n",
    "                    format=\"[%(name)s:%(levelname)-8s] -> %(message)s\")\n",
    "logger = logging.getLogger()"
   ]
  },
  {
   "cell_type": "code",
   "execution_count": null,
   "metadata": {
    "scrolled": false,
    "collapsed": false
   },
   "outputs": [],
   "source": [
    "pvpath = r\"C:\\Users\\kruener\\PycharmProjects\\sysver\\PyVerify\"\n",
    "if os.path.exists(pvpath):\n",
    "    sys.path.insert(0, pvpath)"
   ]
  },
  {
   "cell_type": "code",
   "execution_count": null,
   "metadata": {
    "scrolled": false,
    "collapsed": false
   },
   "outputs": [],
   "source": [
    "from pverify.drivers.TemperatureChamber.thermonics_t2500 import thermonics_t2500"
   ]
  },
  {
   "cell_type": "code",
   "execution_count": null,
   "metadata": {
    "scrolled": false,
    "collapsed": false
   },
   "outputs": [],
   "source": [
    "thermo = thermonics_t2500(logger=logger)"
   ]
  },
  {
   "cell_type": "code",
   "execution_count": null,
   "metadata": {
    "scrolled": false,
    "collapsed": false
   },
   "outputs": [],
   "source": [
    "thermo.Initialize(\"GPIB0::5::INSTR\", 1, 1, \"\")"
   ]
  },
  {
   "cell_type": "code",
   "execution_count": null,
   "metadata": {
    "scrolled": false,
    "collapsed": false
   },
   "outputs": [],
   "source": [
    "logger.info(thermo)"
   ]
  },
  {
   "cell_type": "markdown",
   "metadata": {},
   "source": [
    "## Identity Feature"
   ]
  },
  {
   "cell_type": "code",
   "execution_count": null,
   "metadata": {
    "scrolled": false,
    "collapsed": false
   },
   "outputs": [],
   "source": [
    "logger.info(\"IDN:     \" + thermo.Identity.Identifier)\n",
    "logger.info(\"FW REV:  \" + thermo.Identity.InstrumentFirmwareRevision)\n",
    "logger.info(\"DRV REV: \" + thermo.Identity.Revision)"
   ]
  },
  {
   "cell_type": "markdown",
   "metadata": {},
   "source": [
    "## Temperature Logger"
   ]
  },
  {
   "cell_type": "code",
   "execution_count": null,
   "metadata": {
    "scrolled": false,
    "collapsed": false
   },
   "outputs": [],
   "source": [
    "logpath = r\"C:\\temp\\templog.csv\"\n",
    "thermo.Templogger.config(logpath, 0.1)"
   ]
  },
  {
   "cell_type": "code",
   "execution_count": null,
   "metadata": {
    "scrolled": false,
    "collapsed": false
   },
   "outputs": [],
   "source": [
    "thermo.Templogger.start()\n",
    "sleep(1)\n",
    "thermo.Templogger.pause()\n",
    "sleep(0.5)\n",
    "thermo.Templogger.start()\n",
    "sleep(1)\n",
    "thermo.Templogger.stop()"
   ]
  },
  {
   "cell_type": "code",
   "execution_count": null,
   "metadata": {
    "scrolled": false,
    "collapsed": false
   },
   "outputs": [],
   "source": [
    "thermo.Templogger.as_dataframe()"
   ]
  },
  {
   "cell_type": "code",
   "execution_count": null,
   "metadata": {
    "scrolled": false,
    "collapsed": false
   },
   "outputs": [],
   "source": [
    "df = thermo.Templogger.as_dataframe()\n",
    "df.plot(style=dict(AirTemp=\"bo-\", DutTemp=\"ro-\"))"
   ]
  },
  {
   "cell_type": "markdown",
   "metadata": {},
   "source": [
    "## Properties"
   ]
  },
  {
   "cell_type": "code",
   "execution_count": null,
   "metadata": {
    "scrolled": false,
    "collapsed": false
   },
   "outputs": [],
   "source": [
    "# MODE\n",
    "\n",
    "thermo.parameter.Mode = thermo.Enums.MODE.DUT_CTRL_K_TYPE\n",
    "mode2 = thermo.parameter.Mode\n",
    "thermo.parameter.Mode = thermo.Enums.MODE.DUT_CTRL_T_TYPE\n",
    "mode3 = thermo.parameter.Mode\n",
    "thermo.parameter.Mode = thermo.Enums.MODE.RTD\n",
    "mode4 = thermo.parameter.Mode\n",
    "thermo.parameter.Mode = thermo.Enums.MODE.AIR_CTRL\n",
    "mode1 = thermo.parameter.Mode\n",
    "\n",
    "logger.info(mode1)\n",
    "logger.info(mode2)\n",
    "logger.info(mode3)\n",
    "logger.info(mode4)\n",
    "\n",
    "assert mode1 == thermo.Enums.MODE.AIR_CTRL\n",
    "assert mode2 == thermo.Enums.MODE.DUT_CTRL_K_TYPE\n",
    "assert mode3 == thermo.Enums.MODE.DUT_CTRL_T_TYPE\n",
    "assert mode4 == thermo.Enums.MODE.RTD"
   ]
  },
  {
   "cell_type": "code",
   "execution_count": null,
   "metadata": {
    "scrolled": false,
    "collapsed": false
   },
   "outputs": [],
   "source": [
    "# Temperature\n",
    "\n",
    "logger.info(\"Dut Temperature: %.2f\" % thermo.parameter.DutTemp)\n",
    "logger.info(\"Air Temperature: %.2f\" % thermo.parameter.AirTemp)\n",
    "\n",
    "thermo.parameter.Mode = thermo.Enums.MODE.DUT_CTRL_K_TYPE\n",
    "logger.info(\"Dut Temperature: %.2f\" % thermo.parameter.Temp)\n",
    "thermo.parameter.Mode = thermo.Enums.MODE.AIR_CTRL\n",
    "logger.info(\"Air Temperature: %.2f\" % thermo.parameter.Temp)"
   ]
  },
  {
   "cell_type": "code",
   "execution_count": null,
   "metadata": {
    "scrolled": false,
    "collapsed": false
   },
   "outputs": [],
   "source": [
    "# Setpoint\n",
    "\n",
    "thermo.parameter.SetPoint = 23\n",
    "rb = thermo.parameter.SetPoint\n",
    "logger.info(rb)\n",
    "assert rb == 23"
   ]
  },
  {
   "cell_type": "code",
   "execution_count": null,
   "metadata": {
    "scrolled": false,
    "collapsed": false
   },
   "outputs": [],
   "source": [
    "# Window\n",
    "\n",
    "thermo.parameter.Window = 2\n",
    "rb = thermo.parameter.Window\n",
    "logger.info(rb)\n",
    "assert rb == 2"
   ]
  },
  {
   "cell_type": "code",
   "execution_count": null,
   "metadata": {
    "scrolled": false,
    "collapsed": false
   },
   "outputs": [],
   "source": [
    "# RampRate\n",
    "\n",
    "thermo.parameter.RampRate = 10\n",
    "rb = thermo.parameter.RampRate\n",
    "logger.info(rb)\n",
    "assert rb == 10\n",
    "\n",
    "thermo.parameter.RampRate = 999  # As fast as possible\n",
    "rb = thermo.parameter.RampRate\n",
    "logger.info(rb)\n",
    "assert rb == 999"
   ]
  },
  {
   "cell_type": "code",
   "execution_count": null,
   "metadata": {
    "scrolled": false,
    "collapsed": false
   },
   "outputs": [],
   "source": [
    "# FlowRate\n",
    "\n",
    "thermo.parameter.FlowRate = 5\n",
    "rb = thermo.parameter.FlowRate\n",
    "logger.info(rb)\n",
    "assert math.ceil(rb) == 5"
   ]
  },
  {
   "cell_type": "code",
   "execution_count": null,
   "metadata": {
    "scrolled": false,
    "collapsed": false
   },
   "outputs": [],
   "source": [
    "# HeadPosition\n",
    "\n",
    "thermo.parameter.HeadPosition = thermo.Enums.HEAD_POS.UP\n",
    "rb = thermo.parameter.HeadPosition\n",
    "logger.info(rb)\n",
    "assert rb == thermo.Enums.HEAD_POS.UP\n",
    "\n",
    "thermo.parameter.HeadPosition = thermo.Enums.HEAD_POS.DOWN\n",
    "rb = thermo.parameter.HeadPosition\n",
    "logger.info(rb)\n",
    "assert rb == thermo.Enums.HEAD_POS.DOWN"
   ]
  },
  {
   "cell_type": "code",
   "execution_count": null,
   "metadata": {
    "scrolled": false,
    "collapsed": false
   },
   "outputs": [],
   "source": [
    "# FlowState\n",
    "\n",
    "thermo.parameter.FlowState = True\n",
    "rb = thermo.parameter.FlowState\n",
    "logger.info(rb)\n",
    "assert rb == True\n",
    "\n",
    "thermo.parameter.FlowState = False\n",
    "rb = thermo.parameter.FlowState\n",
    "logger.info(rb)\n",
    "assert rb == False"
   ]
  },
  {
   "cell_type": "code",
   "execution_count": null,
   "metadata": {
    "scrolled": false,
    "collapsed": false
   },
   "outputs": [],
   "source": [
    "# CompressorState\n",
    "\n",
    "thermo.parameter.CompressorState = True\n",
    "rb = thermo.parameter.CompressorState\n",
    "logger.info(rb)\n",
    "assert rb == True\n",
    "\n",
    "thermo.parameter.CompressorState = False\n",
    "rb = thermo.parameter.CompressorState\n",
    "logger.info(rb)\n",
    "assert rb == False\n",
    "\n",
    "thermo.parameter.CompressorState = True\n",
    "rb = thermo.parameter.CompressorState\n",
    "logger.info(rb)\n",
    "assert rb == True"
   ]
  },
  {
   "cell_type": "markdown",
   "metadata": {},
   "source": [
    "## Wait until temperature settled"
   ]
  },
  {
   "cell_type": "code",
   "execution_count": null,
   "metadata": {
    "scrolled": false,
    "collapsed": false
   },
   "outputs": [],
   "source": [
    "logpath = r\"C:\\temp\\templog.csv\"\n",
    "thermo.Templogger.config(logpath, 0.1)"
   ]
  },
  {
   "cell_type": "code",
   "execution_count": null,
   "metadata": {
    "scrolled": false,
    "collapsed": false
   },
   "outputs": [],
   "source": [
    "# Cannot be simulated\n",
    "thermo.parameter.HeadPosition = thermo.Enums.HEAD_POS.DOWN\n",
    "thermo.Templogger.start()\n",
    "try:\n",
    "    thermo.WaitForTemp(timeout_s=600, target=110., window_k=3, flowrate=6., soaktime_m=1, disable_exception=False)\n",
    "except Exception as e:\n",
    "    logger.exception(e)\n",
    "finally:\n",
    "    thermo.Templogger.stop()\n",
    "    thermo.parameter.FlowState = False\n",
    "    df = thermo.Templogger.as_dataframe()\n",
    "    df.plot(style=dict(AirTemp=\"bo-\", DutTemp=\"ro-\"))"
   ]
  },
  {
   "cell_type": "markdown",
   "metadata": {},
   "source": [
    "## Close"
   ]
  },
  {
   "cell_type": "code",
   "execution_count": null,
   "metadata": {
    "scrolled": false,
    "collapsed": false
   },
   "outputs": [],
   "source": [
    "thermo.Close()"
   ]
  },
  {
   "cell_type": "markdown",
   "metadata": {
    "ExecuteTime": {
     "end_time": "2018-03-08T15:07:21.235486Z",
     "start_time": "2018-03-08T15:07:18.705435Z"
    },
    "collapsed": true
   },
   "source": [
    "# Dev area"
   ]
  },
  {
   "cell_type": "code",
   "execution_count": null,
   "metadata": {
    "scrolled": false,
    "collapsed": false
   },
   "outputs": [],
   "source": []
  }
 ],
 "metadata": {
  "kernelspec": {
   "display_name": "Python 3",
   "language": "python",
   "name": "python3"
  },
  "language_info": {
   "codemirror_mode": {
    "name": "ipython",
    "version": 3
   },
   "file_extension": ".py",
   "mimetype": "text/x-python",
   "name": "python",
   "nbconvert_exporter": "python",
   "pygments_lexer": "ipython3",
   "version": "3.6.3"
  }
 },
 "nbformat": 4,
 "nbformat_minor": 2
}
