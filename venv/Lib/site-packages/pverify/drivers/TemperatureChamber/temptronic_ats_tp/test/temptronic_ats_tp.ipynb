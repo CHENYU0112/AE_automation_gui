{
 "cells": [
  {
   "cell_type": "markdown",
   "metadata": {},
   "source": [
    "## Init"
   ]
  },
  {
   "cell_type": "code",
   "execution_count": 1,
   "metadata": {
    "ExecuteTime": {
     "end_time": "2019-08-14T03:46:53.622083Z",
     "start_time": "2019-08-14T03:46:48.653308Z"
    },
    "scrolled": false
   },
   "outputs": [],
   "source": [
    "%matplotlib inline\n",
    "import sys\n",
    "import os\n",
    "import pandas as pd\n",
    "import math\n",
    "from time import sleep"
   ]
  },
  {
   "cell_type": "code",
   "execution_count": 2,
   "metadata": {
    "ExecuteTime": {
     "end_time": "2019-08-14T03:46:53.668769Z",
     "start_time": "2019-08-14T03:46:53.660203Z"
    },
    "scrolled": false
   },
   "outputs": [],
   "source": [
    "import logging\n",
    "logging.basicConfig(stream=sys.stdout, level=logging.INFO,\n",
    "                    format=\"[%(name)s:%(levelname)-8s] -> %(message)s\")\n",
    "logger = logging.getLogger()"
   ]
  },
  {
   "cell_type": "code",
   "execution_count": 3,
   "metadata": {
    "ExecuteTime": {
     "end_time": "2019-08-14T03:46:53.715439Z",
     "start_time": "2019-08-14T03:46:53.699658Z"
    },
    "scrolled": false
   },
   "outputs": [],
   "source": [
    "pvpath = r\"C:\\inicio_dev\\pyverify\"\n",
    "if os.path.exists(pvpath):\n",
    "    sys.path.insert(0, pvpath)"
   ]
  },
  {
   "cell_type": "code",
   "execution_count": 4,
   "metadata": {
    "ExecuteTime": {
     "end_time": "2019-08-14T03:47:06.157210Z",
     "start_time": "2019-08-14T03:46:53.748320Z"
    },
    "scrolled": false
   },
   "outputs": [],
   "source": [
    "from pverify.drivers.TemperatureChamber.temptronic_ats_tp import temptronic_ats_tp"
   ]
  },
  {
   "cell_type": "code",
   "execution_count": 5,
   "metadata": {
    "ExecuteTime": {
     "end_time": "2019-08-14T03:47:06.193731Z",
     "start_time": "2019-08-14T03:47:06.185501Z"
    },
    "scrolled": false
   },
   "outputs": [],
   "source": [
    "thermo = temptronic_ats_tp(logger=logger)"
   ]
  },
  {
   "cell_type": "code",
   "execution_count": 6,
   "metadata": {
    "ExecuteTime": {
     "end_time": "2019-08-14T03:47:13.967719Z",
     "start_time": "2019-08-14T03:47:06.267096Z"
    },
    "scrolled": false
   },
   "outputs": [
    {
     "name": "stdout",
     "output_type": "stream",
     "text": [
      "[root:INFO    ] -> Successfully connected to thermostream TEMPTRONIC,ATS-545,0,PG20004B\r\n",
      " @ GPIB0::9::INSTR\n"
     ]
    }
   ],
   "source": [
    "thermo.Initialize(\"GPIB0::9::INSTR\", 1, 1, \"\")"
   ]
  },
  {
   "cell_type": "code",
   "execution_count": 7,
   "metadata": {
    "ExecuteTime": {
     "end_time": "2019-08-14T03:47:14.028798Z",
     "start_time": "2019-08-14T03:47:14.007413Z"
    },
    "scrolled": false
   },
   "outputs": [
    {
     "name": "stdout",
     "output_type": "stream",
     "text": [
      "[root:INFO    ] -> Thermostream Limits:\n",
      "    TEMP_HIGH = 225.0   # °C\n",
      "    TEMP_LOW = -75.0    # °C\n",
      "    FLOW_HIGH = 8.5     # unit: l/s -> 18 scfm  NOT SUPPORTED (ToDo: Check)\n",
      "    FLOW_LOW = 1.9      # unit: l/s -> 4 scfm  NOT SUPPORTED (ToDo: Check)\n",
      "    WINDOW_HIGH = 9.9   # unit: °C\n",
      "    WINDOW_LOW = 0.1    # unit: °C\n",
      "    RATE_HIGH = 9999    # °C/minute\n",
      "    RATE_LOW = 0        # °C/minute\n",
      "\n"
     ]
    }
   ],
   "source": [
    "logger.info(thermo)"
   ]
  },
  {
   "cell_type": "markdown",
   "metadata": {},
   "source": [
    "## Identity Feature"
   ]
  },
  {
   "cell_type": "code",
   "execution_count": 8,
   "metadata": {
    "ExecuteTime": {
     "end_time": "2019-08-12T06:05:52.415588Z",
     "start_time": "2019-08-12T06:05:52.289269Z"
    },
    "scrolled": false
   },
   "outputs": [
    {
     "name": "stdout",
     "output_type": "stream",
     "text": [
      "[root:INFO    ] -> IDN:     TEMPTRONIC,ATS-545,0,PG20004B\n",
      "[root:INFO    ] -> FW REV:  PG20004B\n",
      "[root:INFO    ] -> DRV REV: not available\n"
     ]
    }
   ],
   "source": [
    "logger.info(\"IDN:     \" + thermo.Identity.Identifier)\n",
    "logger.info(\"FW REV:  \" + thermo.Identity.InstrumentFirmwareRevision)\n",
    "logger.info(\"DRV REV: \" + thermo.Identity.Revision)"
   ]
  },
  {
   "cell_type": "markdown",
   "metadata": {},
   "source": [
    "## Temperature Logger"
   ]
  },
  {
   "cell_type": "code",
   "execution_count": 9,
   "metadata": {
    "ExecuteTime": {
     "end_time": "2019-08-12T06:05:54.785351Z",
     "start_time": "2019-08-12T06:05:54.773906Z"
    },
    "scrolled": false
   },
   "outputs": [],
   "source": [
    "logpath = r\"C:\\temp\\templog.csv\"\n",
    "thermo.Templogger.config(logpath, 0.1)"
   ]
  },
  {
   "cell_type": "code",
   "execution_count": 10,
   "metadata": {
    "ExecuteTime": {
     "end_time": "2019-08-12T06:05:58.486971Z",
     "start_time": "2019-08-12T06:05:55.892247Z"
    },
    "scrolled": false
   },
   "outputs": [],
   "source": [
    "thermo.Templogger.start()\n",
    "sleep(1)\n",
    "thermo.Templogger.pause()\n",
    "sleep(0.5)\n",
    "thermo.Templogger.start()\n",
    "sleep(1)\n",
    "thermo.Templogger.stop()"
   ]
  },
  {
   "cell_type": "code",
   "execution_count": 11,
   "metadata": {
    "ExecuteTime": {
     "end_time": "2019-08-12T06:05:58.669980Z",
     "start_time": "2019-08-12T06:05:58.587173Z"
    },
    "scrolled": false
   },
   "outputs": [
    {
     "data": {
      "text/html": [
       "<div>\n",
       "<style scoped>\n",
       "    .dataframe tbody tr th:only-of-type {\n",
       "        vertical-align: middle;\n",
       "    }\n",
       "\n",
       "    .dataframe tbody tr th {\n",
       "        vertical-align: top;\n",
       "    }\n",
       "\n",
       "    .dataframe thead th {\n",
       "        text-align: right;\n",
       "    }\n",
       "</style>\n",
       "<table border=\"1\" class=\"dataframe\">\n",
       "  <thead>\n",
       "    <tr style=\"text-align: right;\">\n",
       "      <th></th>\n",
       "      <th>AirTemp</th>\n",
       "      <th>DutTemp</th>\n",
       "    </tr>\n",
       "    <tr>\n",
       "      <th>Date</th>\n",
       "      <th></th>\n",
       "      <th></th>\n",
       "    </tr>\n",
       "  </thead>\n",
       "  <tbody>\n",
       "    <tr>\n",
       "      <th>2019-08-12 11:35:55.910630</th>\n",
       "      <td>1.4</td>\n",
       "      <td>0.0</td>\n",
       "    </tr>\n",
       "    <tr>\n",
       "      <th>2019-08-12 11:35:56.056674</th>\n",
       "      <td>1.5</td>\n",
       "      <td>0.0</td>\n",
       "    </tr>\n",
       "    <tr>\n",
       "      <th>2019-08-12 11:35:56.195690</th>\n",
       "      <td>1.5</td>\n",
       "      <td>0.0</td>\n",
       "    </tr>\n",
       "    <tr>\n",
       "      <th>2019-08-12 11:35:56.495654</th>\n",
       "      <td>1.5</td>\n",
       "      <td>0.0</td>\n",
       "    </tr>\n",
       "    <tr>\n",
       "      <th>2019-08-12 11:35:56.637265</th>\n",
       "      <td>1.5</td>\n",
       "      <td>0.0</td>\n",
       "    </tr>\n",
       "    <tr>\n",
       "      <th>2019-08-12 11:35:56.779369</th>\n",
       "      <td>1.5</td>\n",
       "      <td>0.0</td>\n",
       "    </tr>\n",
       "  </tbody>\n",
       "</table>\n",
       "</div>"
      ],
      "text/plain": [
       "                            AirTemp  DutTemp\n",
       "Date                                        \n",
       "2019-08-12 11:35:55.910630      1.4      0.0\n",
       "2019-08-12 11:35:56.056674      1.5      0.0\n",
       "2019-08-12 11:35:56.195690      1.5      0.0\n",
       "2019-08-12 11:35:56.495654      1.5      0.0\n",
       "2019-08-12 11:35:56.637265      1.5      0.0\n",
       "2019-08-12 11:35:56.779369      1.5      0.0"
      ]
     },
     "execution_count": 11,
     "metadata": {},
     "output_type": "execute_result"
    }
   ],
   "source": [
    "thermo.Templogger.as_dataframe()"
   ]
  },
  {
   "cell_type": "code",
   "execution_count": 12,
   "metadata": {
    "ExecuteTime": {
     "end_time": "2019-08-12T06:06:01.927612Z",
     "start_time": "2019-08-12T06:06:00.777582Z"
    },
    "scrolled": false
   },
   "outputs": [
    {
     "data": {
      "text/plain": [
       "<matplotlib.axes._subplots.AxesSubplot at 0x23d16758518>"
      ]
     },
     "execution_count": 12,
     "metadata": {},
     "output_type": "execute_result"
    },
    {
     "data": {
      "image/png": "[encoded data removed]",
      "text/plain": [
       "<Figure size 432x288 with 1 Axes>"
      ]
     },
     "metadata": {},
     "output_type": "display_data"
    }
   ],
   "source": [
    "df = thermo.Templogger.as_dataframe()\n",
    "df.plot(style=dict(AirTemp=\"bo-\", DutTemp=\"ro-\"))"
   ]
  },
  {
   "cell_type": "markdown",
   "metadata": {},
   "source": [
    "## Properties"
   ]
  },
  {
   "cell_type": "code",
   "execution_count": 13,
   "metadata": {
    "ExecuteTime": {
     "end_time": "2019-08-12T06:06:37.332252Z",
     "start_time": "2019-08-12T06:06:37.315011Z"
    },
    "scrolled": false
   },
   "outputs": [
    {
     "name": "stdout",
     "output_type": "stream",
     "text": [
      "[root:INFO    ] -> Setting control to TC-Meter is only supported with ATS700 or ATS800 series!\n"
     ]
    }
   ],
   "source": [
    "# MODE\n",
    "\n",
    "try:\n",
    "    thermo.parameter.Mode = thermo.Enums.MODE.TC_METER\n",
    "except NotImplementedError as e:\n",
    "    logger.info(e, exc_info=False)\n",
    "else:\n",
    "    mode3 = thermo.parameter.Mode\n",
    "    logger.info(mode3)\n",
    "    assert mode3 == thermo.Enums.MODE.TC_METER"
   ]
  },
  {
   "cell_type": "code",
   "execution_count": 31,
   "metadata": {
    "ExecuteTime": {
     "end_time": "2019-08-12T06:18:56.688533Z",
     "start_time": "2019-08-12T06:18:56.629194Z"
    }
   },
   "outputs": [
    {
     "name": "stdout",
     "output_type": "stream",
     "text": [
      "[root:INFO    ] -> MODE.AIR_CTRL\n"
     ]
    }
   ],
   "source": [
    "thermo.parameter.Mode = thermo.Enums.MODE.AIR_CTRL\n",
    "mode1 = thermo.parameter.Mode\n",
    "logger.info(mode1)\n",
    "assert mode1 == thermo.Enums.MODE.AIR_CTRL"
   ]
  },
  {
   "cell_type": "code",
   "execution_count": 32,
   "metadata": {
    "ExecuteTime": {
     "end_time": "2019-08-12T06:19:00.822554Z",
     "start_time": "2019-08-12T06:19:00.768514Z"
    }
   },
   "outputs": [
    {
     "name": "stdout",
     "output_type": "stream",
     "text": [
      "[root:INFO    ] -> SENSOR.K\n"
     ]
    }
   ],
   "source": [
    "thermo.parameter.Sensor = thermo.Enums.SENSOR.K\n",
    "mode3 = thermo.parameter.Sensor\n",
    "logger.info(mode3)\n",
    "assert mode3 == thermo.Enums.SENSOR.K"
   ]
  },
  {
   "cell_type": "code",
   "execution_count": 33,
   "metadata": {
    "ExecuteTime": {
     "end_time": "2019-08-12T06:19:08.423915Z",
     "start_time": "2019-08-12T06:19:08.376457Z"
    }
   },
   "outputs": [
    {
     "name": "stdout",
     "output_type": "stream",
     "text": [
      "[root:INFO    ] -> SENSOR.NONE\n"
     ]
    }
   ],
   "source": [
    "thermo.parameter.Sensor = thermo.Enums.SENSOR.NONE\n",
    "mode3 = thermo.parameter.Sensor\n",
    "logger.info(mode3)\n",
    "assert mode3 == thermo.Enums.SENSOR.NONE"
   ]
  },
  {
   "cell_type": "code",
   "execution_count": 38,
   "metadata": {
    "ExecuteTime": {
     "end_time": "2019-08-12T06:19:39.692714Z",
     "start_time": "2019-08-12T06:19:39.643764Z"
    }
   },
   "outputs": [
    {
     "name": "stdout",
     "output_type": "stream",
     "text": [
      "[root:INFO    ] -> SENSOR.K\n"
     ]
    }
   ],
   "source": [
    "thermo.parameter.Sensor = thermo.Enums.SENSOR.K\n",
    "mode3 = thermo.parameter.Sensor\n",
    "logger.info(mode3)\n",
    "assert mode3 == thermo.Enums.SENSOR.K"
   ]
  },
  {
   "cell_type": "code",
   "execution_count": 35,
   "metadata": {
    "ExecuteTime": {
     "end_time": "2019-08-12T06:19:24.688993Z",
     "start_time": "2019-08-12T06:19:24.441451Z"
    }
   },
   "outputs": [
    {
     "name": "stdout",
     "output_type": "stream",
     "text": [
      "[root:INFO    ] -> MODE.DUT_CTRL\n"
     ]
    }
   ],
   "source": [
    "thermo.parameter.Mode = thermo.Enums.MODE.DUT_CTRL\n",
    "mode5 = thermo.parameter.Mode\n",
    "logger.info(mode5)\n",
    "assert mode5 == thermo.Enums.MODE.DUT_CTRL"
   ]
  },
  {
   "cell_type": "code",
   "execution_count": 36,
   "metadata": {
    "ExecuteTime": {
     "end_time": "2019-08-12T06:19:29.686543Z",
     "start_time": "2019-08-12T06:19:29.577842Z"
    }
   },
   "outputs": [
    {
     "name": "stdout",
     "output_type": "stream",
     "text": [
      "[root:INFO    ] -> SENSOR.T\n"
     ]
    }
   ],
   "source": [
    "thermo.parameter.Sensor = thermo.Enums.SENSOR.T\n",
    "mode3 = thermo.parameter.Sensor\n",
    "logger.info(mode3)\n",
    "assert mode3 == thermo.Enums.SENSOR.T"
   ]
  },
  {
   "cell_type": "code",
   "execution_count": 37,
   "metadata": {
    "ExecuteTime": {
     "end_time": "2019-08-12T06:19:34.190095Z",
     "start_time": "2019-08-12T06:19:34.113592Z"
    }
   },
   "outputs": [
    {
     "name": "stdout",
     "output_type": "stream",
     "text": [
      "[root:INFO    ] -> SENSOR.NONE\n"
     ]
    }
   ],
   "source": [
    "thermo.parameter.Sensor = thermo.Enums.SENSOR.NONE\n",
    "mode3 = thermo.parameter.Sensor\n",
    "logger.info(mode3)\n",
    "assert mode3 == thermo.Enums.SENSOR.NONE"
   ]
  },
  {
   "cell_type": "code",
   "execution_count": 25,
   "metadata": {
    "ExecuteTime": {
     "end_time": "2019-08-12T06:11:57.365743Z",
     "start_time": "2019-08-12T06:11:57.324014Z"
    }
   },
   "outputs": [
    {
     "data": {
      "text/plain": [
       "<SENSOR.NONE: 0>"
      ]
     },
     "execution_count": 25,
     "metadata": {},
     "output_type": "execute_result"
    }
   ],
   "source": [
    "thermo.parameter.Sensor"
   ]
  },
  {
   "cell_type": "code",
   "execution_count": 17,
   "metadata": {
    "scrolled": false
   },
   "outputs": [
    {
     "name": "stdout",
     "output_type": "stream",
     "text": [
      "[root:INFO    ] -> Dut Temperature: 23.80\n",
      "[root:INFO    ] -> Air Temperature: 26.30\n",
      "[root:INFO    ] -> Dut Temperature: 23.80\n",
      "[root:INFO    ] -> Air Temperature: 26.30\n"
     ]
    }
   ],
   "source": [
    "# Temperature\n",
    "\n",
    "logger.info(\"Dut Temperature: %.2f\" % thermo.parameter.DutTemp)\n",
    "logger.info(\"Air Temperature: %.2f\" % thermo.parameter.AirTemp)\n",
    "\n",
    "thermo.parameter.Mode = thermo.Enums.MODE.DUT_CTRL\n",
    "logger.info(\"Dut Temperature: %.2f\" % thermo.parameter.Temp)\n",
    "thermo.parameter.Mode = thermo.Enums.MODE.AIR_CTRL\n",
    "logger.info(\"Air Temperature: %.2f\" % thermo.parameter.Temp)"
   ]
  },
  {
   "cell_type": "code",
   "execution_count": 18,
   "metadata": {
    "scrolled": false
   },
   "outputs": [
    {
     "name": "stdout",
     "output_type": "stream",
     "text": [
      "[root:INFO    ] -> 50.0\n"
     ]
    }
   ],
   "source": [
    "# Setpoint\n",
    "\n",
    "thermo.parameter.SetPoint = 50\n",
    "rb = thermo.parameter.SetPoint\n",
    "logger.info(rb)\n",
    "assert rb == 50"
   ]
  },
  {
   "cell_type": "code",
   "execution_count": 19,
   "metadata": {
    "scrolled": true
   },
   "outputs": [
    {
     "name": "stdout",
     "output_type": "stream",
     "text": [
      "[root:INFO    ] -> 2.0\n"
     ]
    }
   ],
   "source": [
    "# Window\n",
    "\n",
    "thermo.parameter.Window = 2\n",
    "rb = thermo.parameter.Window\n",
    "logger.info(rb)\n",
    "assert rb == 2"
   ]
  },
  {
   "cell_type": "code",
   "execution_count": 20,
   "metadata": {
    "scrolled": false
   },
   "outputs": [
    {
     "name": "stdout",
     "output_type": "stream",
     "text": [
      "[root:INFO    ] -> 100.0\n"
     ]
    }
   ],
   "source": [
    "# RampRate\n",
    "\n",
    "thermo.parameter.RampRate = 100\n",
    "rb = thermo.parameter.RampRate\n",
    "logger.info(rb)\n",
    "assert rb == 100"
   ]
  },
  {
   "cell_type": "code",
   "execution_count": 21,
   "metadata": {},
   "outputs": [
    {
     "name": "stdout",
     "output_type": "stream",
     "text": [
      "[root:INFO    ] -> 9999.0\n"
     ]
    }
   ],
   "source": [
    "thermo.parameter.RampRate = 9999  # As fast as possible\n",
    "rb = thermo.parameter.RampRate\n",
    "logger.info(rb)\n",
    "assert rb == 9999"
   ]
  },
  {
   "cell_type": "code",
   "execution_count": 8,
   "metadata": {
    "ExecuteTime": {
     "end_time": "2019-08-14T03:48:01.001920Z",
     "start_time": "2019-08-14T03:48:00.981481Z"
    },
    "scrolled": false
   },
   "outputs": [
    {
     "name": "stdout",
     "output_type": "stream",
     "text": [
      "[root:INFO    ] -> Setting the flow rate is only supported with ATS700 or ATS800 series!\n"
     ]
    }
   ],
   "source": [
    "# FlowRate\n",
    "\n",
    "try:\n",
    "    thermo.parameter.FlowRate = 5\n",
    "except NotImplementedError as e:\n",
    "    logger.info(e, exc_info=False)\n",
    "else:\n",
    "    rb = thermo.parameter.FlowRate\n",
    "    logger.info(rb)\n",
    "    assert math.ceil(rb) == 5"
   ]
  },
  {
   "cell_type": "code",
   "execution_count": 23,
   "metadata": {
    "scrolled": false
   },
   "outputs": [
    {
     "name": "stdout",
     "output_type": "stream",
     "text": [
      "[root:INFO    ] -> Locking the head is only supported with ATS700 or ATS800 series!\n"
     ]
    }
   ],
   "source": [
    "# HeadLock\n",
    "\n",
    "try:\n",
    "    thermo.parameter.HeadLock = True\n",
    "except NotImplementedError as e:\n",
    "    logger.info(e, exc_info=False)\n",
    "else:\n",
    "    rb = thermo.parameter.HeadLock\n",
    "    logger.info(rb)\n",
    "    assert rb == True\n",
    "\n",
    "    thermo.parameter.HeadLock = False\n",
    "    rb = thermo.parameter.HeadLock\n",
    "    logger.info(rb)\n",
    "    assert rb == False"
   ]
  },
  {
   "cell_type": "code",
   "execution_count": 24,
   "metadata": {},
   "outputs": [
    {
     "name": "stdout",
     "output_type": "stream",
     "text": [
      "[root:INFO    ] -> HEAD_POS.UP\n"
     ]
    }
   ],
   "source": [
    "# HeadPosition\n",
    "\n",
    "thermo.parameter.HeadPosition = thermo.Enums.HEAD_POS.UP\n",
    "rb = thermo.parameter.HeadPosition\n",
    "logger.info(rb)\n",
    "assert rb == thermo.Enums.HEAD_POS.UP"
   ]
  },
  {
   "cell_type": "code",
   "execution_count": 25,
   "metadata": {},
   "outputs": [
    {
     "name": "stdout",
     "output_type": "stream",
     "text": [
      "[root:INFO    ] -> HEAD_POS.DOWN\n"
     ]
    }
   ],
   "source": [
    "thermo.parameter.HeadPosition = thermo.Enums.HEAD_POS.DOWN\n",
    "rb = thermo.parameter.HeadPosition\n",
    "logger.info(rb)\n",
    "assert rb == thermo.Enums.HEAD_POS.DOWN"
   ]
  },
  {
   "cell_type": "code",
   "execution_count": 26,
   "metadata": {
    "scrolled": false
   },
   "outputs": [
    {
     "name": "stdout",
     "output_type": "stream",
     "text": [
      "[root:INFO    ] -> True\n",
      "[root:INFO    ] -> False\n"
     ]
    }
   ],
   "source": [
    "# FlowState\n",
    "\n",
    "thermo.parameter.FlowState = True\n",
    "rb = thermo.parameter.FlowState\n",
    "logger.info(rb)\n",
    "assert rb == True\n",
    "\n",
    "thermo.parameter.FlowState = False\n",
    "rb = thermo.parameter.FlowState\n",
    "logger.info(rb)\n",
    "assert rb == False"
   ]
  },
  {
   "cell_type": "code",
   "execution_count": null,
   "metadata": {
    "scrolled": false
   },
   "outputs": [
    {
     "name": "stdout",
     "output_type": "stream",
     "text": [
      "[root:INFO    ] -> True\n",
      "[root:INFO    ] -> False\n"
     ]
    }
   ],
   "source": [
    "# CompressorState\n",
    "\n",
    "thermo.parameter.CompressorState = True\n",
    "rb = thermo.parameter.CompressorState\n",
    "logger.info(rb)\n",
    "assert rb == True\n",
    "\n",
    "thermo.parameter.CompressorState = False\n",
    "rb = thermo.parameter.CompressorState\n",
    "logger.info(rb)\n",
    "assert rb == False\n",
    "\n",
    "thermo.parameter.CompressorState = True\n",
    "rb = thermo.parameter.CompressorState\n",
    "logger.info(rb)\n",
    "assert rb == True"
   ]
  },
  {
   "cell_type": "code",
   "execution_count": null,
   "metadata": {
    "scrolled": false
   },
   "outputs": [],
   "source": [
    "# CompressorTimer\n",
    "\n",
    "try:\n",
    "    thermo.parameter.CompressorTimer = 15\n",
    "except NotImplementedError as e:\n",
    "    logger.info(e, exc_info=False)\n",
    "else:\n",
    "    rb = thermo.parameter.CompressorTimer\n",
    "    logger.info(rb)\n",
    "    assert rb == 14 or rb == 15\n",
    "\n",
    "    thermo.parameter.CompressorTimer = 0\n",
    "    rb = thermo.parameter.CompressorTimer\n",
    "    logger.info(rb)\n",
    "    assert rb == 0\n",
    "\n",
    "    logger.info(thermo.parameter.CompressorTimerRemaining)"
   ]
  },
  {
   "cell_type": "markdown",
   "metadata": {},
   "source": [
    "## Wait until temperature settled"
   ]
  },
  {
   "cell_type": "code",
   "execution_count": 36,
   "metadata": {
    "ExecuteTime": {
     "end_time": "2019-08-19T10:43:41.493673Z",
     "start_time": "2019-08-19T10:42:16.573023Z"
    },
    "scrolled": true
   },
   "outputs": [
    {
     "name": "stdout",
     "output_type": "stream",
     "text": [
      "[root:WARNING ] -> Setting the flow rate is only supported with ATS700 or ATS800 series!\n",
      "[root:INFO    ] ->   0% of wait time has passed. Cur: 22.2°C\tTarget: -25.0°C.\n",
      "[root:INFO    ] -> Temperature is within range. Soaking for 0.25 minute(s)...\n",
      "[root:INFO    ] ->   0% of soaktime has passed.\n",
      "[root:INFO    ] ->  20% of soaktime has passed.\n",
      "[root:INFO    ] ->  40% of soaktime has passed.\n",
      "[root:INFO    ] ->  60% of soaktime has passed.\n",
      "[root:INFO    ] ->  80% of soaktime has passed.\n",
      "[root:INFO    ] -> 100% of soaktime has passed.\n",
      "[root:INFO    ] -> Finished soaking. Moving on...\n"
     ]
    },
    {
     "data": {
      "image/png": "[encoded data removed]",
      "text/plain": [
       "<Figure size 432x288 with 1 Axes>"
      ]
     },
     "metadata": {},
     "output_type": "display_data"
    }
   ],
   "source": [
    "thermo.parameter.Mode = thermo.Enums.MODE.AIR_CTRL\n",
    "thermo.parameter.HeadPosition = thermo.Enums.HEAD_POS.DOWN\n",
    "thermo.Templogger.config(logpath, 0.1)\n",
    "thermo.Templogger.start()\n",
    "try:\n",
    "    thermo.WaitForTemp(timeout_s=600, target=-25., window_k=5, flowrate=5., soaktime_m=0.25, disable_exception=False)\n",
    "except Exception as e:\n",
    "    logger.exception(e)\n",
    "finally:\n",
    "    thermo.Templogger.stop()\n",
    "    thermo.parameter.FlowState = False\n",
    "    df = thermo.Templogger.as_dataframe()\n",
    "    df.plot(style=dict(AirTemp=\"bo-\", DutTemp=\"ro-\"))"
   ]
  },
  {
   "cell_type": "code",
   "execution_count": null,
   "metadata": {},
   "outputs": [],
   "source": []
  },
  {
   "cell_type": "markdown",
   "metadata": {},
   "source": [
    "## Close"
   ]
  },
  {
   "cell_type": "code",
   "execution_count": null,
   "metadata": {
    "scrolled": false
   },
   "outputs": [],
   "source": [
    "thermo.Close()"
   ]
  },
  {
   "cell_type": "raw",
   "metadata": {},
   "source": []
  }
 ],
 "metadata": {
  "kernelspec": {
   "display_name": "Python 3",
   "language": "python",
   "name": "python3"
  },
  "language_info": {
   "codemirror_mode": {
    "name": "ipython",
    "version": 3
   },
   "file_extension": ".py",
   "mimetype": "text/x-python",
   "name": "python",
   "nbconvert_exporter": "python",
   "pygments_lexer": "ipython3",
   "version": "3.6.5"
  },
  "toc": {
   "base_numbering": 1,
   "nav_menu": {},
   "number_sections": true,
   "sideBar": true,
   "skip_h1_title": false,
   "title_cell": "Table of Contents",
   "title_sidebar": "Contents",
   "toc_cell": false,
   "toc_position": {
    "height": "calc(100% - 180px)",
    "left": "10px",
    "top": "150px",
    "width": "165px"
   },
   "toc_section_display": true,
   "toc_window_display": false
  },
  "varInspector": {
   "cols": {
    "lenName": 16,
    "lenType": 16,
    "lenVar": 40
   },
   "kernels_config": {
    "python": {
     "delete_cmd_postfix": "",
     "delete_cmd_prefix": "del ",
     "library": "var_list.py",
     "varRefreshCmd": "print(var_dic_list())"
    },
    "r": {
     "delete_cmd_postfix": ") ",
     "delete_cmd_prefix": "rm(",
     "library": "var_list.r",
     "varRefreshCmd": "cat(var_dic_list()) "
    }
   },
   "types_to_exclude": [
    "module",
    "function",
    "builtin_function_or_method",
    "instance",
    "_Feature"
   ],
   "window_display": false
  }
 },
 "nbformat": 4,
 "nbformat_minor": 2
}
