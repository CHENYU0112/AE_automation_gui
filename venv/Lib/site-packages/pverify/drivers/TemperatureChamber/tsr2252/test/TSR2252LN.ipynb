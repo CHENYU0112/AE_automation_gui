{
 "cells": [
  {
   "cell_type": "markdown",
   "metadata": {},
   "source": [
    "## Init"
   ]
  },
  {
   "cell_type": "code",
   "execution_count": 1,
   "metadata": {
    "ExecuteTime": {
     "end_time": "2019-03-07T13:52:08.718564Z",
     "start_time": "2019-03-07T13:52:08.022424Z"
    },
    "scrolled": false
   },
   "outputs": [],
   "source": [
    "%matplotlib inline\n",
    "import sys\n",
    "import os\n",
    "import pandas as pd\n",
    "import math\n",
    "from time import sleep"
   ]
  },
  {
   "cell_type": "code",
   "execution_count": 2,
   "metadata": {
    "ExecuteTime": {
     "end_time": "2019-03-07T13:52:08.923518Z",
     "start_time": "2019-03-07T13:52:08.915518Z"
    },
    "scrolled": false
   },
   "outputs": [],
   "source": [
    "import logging\n",
    "logging.basicConfig(stream=sys.stdout, level=logging.INFO,\n",
    "                    format=\"[%(name)s:%(levelname)-8s] -> %(message)s\")\n",
    "logger = logging.getLogger()"
   ]
  },
  {
   "cell_type": "code",
   "execution_count": 3,
   "metadata": {
    "ExecuteTime": {
     "end_time": "2019-03-07T13:52:09.187521Z",
     "start_time": "2019-03-07T13:52:09.179515Z"
    },
    "scrolled": false
   },
   "outputs": [],
   "source": [
    "pvpath = r\"C:\\UserData\\PycharmProjects\\pycat\\trunk\"\n",
    "if os.path.exists(pvpath):\n",
    "    sys.path.insert(0, pvpath)\n",
    "import pycat"
   ]
  },
  {
   "cell_type": "code",
   "execution_count": 4,
   "metadata": {
    "ExecuteTime": {
     "end_time": "2019-03-07T13:52:10.964494Z",
     "start_time": "2019-03-07T13:52:09.455517Z"
    },
    "scrolled": false
   },
   "outputs": [],
   "source": [
    "from instruments.thermal.tsr2252 import tsr2252"
   ]
  },
  {
   "cell_type": "code",
   "execution_count": 5,
   "metadata": {
    "ExecuteTime": {
     "end_time": "2019-03-07T13:52:11.306332Z",
     "start_time": "2019-03-07T13:52:11.298325Z"
    },
    "scrolled": false
   },
   "outputs": [],
   "source": [
    "thermo = tsr2252(logger=logger)"
   ]
  },
  {
   "cell_type": "code",
   "execution_count": 6,
   "metadata": {
    "ExecuteTime": {
     "end_time": "2019-03-07T13:52:11.945397Z",
     "start_time": "2019-03-07T13:52:11.933393Z"
    }
   },
   "outputs": [
    {
     "data": {
      "text/plain": [
       "{'mode': <MODE.AIR_CTRL: 0>,\n",
       " 'setpoint': 0.0,\n",
       " 'window': 0.0,\n",
       " 'ramp_rate': 0.0,\n",
       " 'flow_rate': 0.0,\n",
       " 'flow_state': False,\n",
       " 'compressor_state': False,\n",
       " 'compressor_timer': 0.0,\n",
       " 'head_pos': <HEAD_POS.UP: 0>,\n",
       " 'head_lock': False,\n",
       " 'sensor': <SENSOR.NONE: 0>}"
      ]
     },
     "execution_count": 6,
     "metadata": {},
     "output_type": "execute_result"
    }
   ],
   "source": [
    "thermo._statecache #before the initialization"
   ]
  },
  {
   "cell_type": "code",
   "execution_count": 7,
   "metadata": {
    "ExecuteTime": {
     "end_time": "2019-03-07T13:52:27.742697Z",
     "start_time": "2019-03-07T13:52:22.800222Z"
    },
    "scrolled": false
   },
   "outputs": [
    {
     "name": "stdout",
     "output_type": "stream",
     "text": [
      "[root:INFO    ] -> Successfully connected to thermostream TSR, 2252,S/N 180006764, Rev V15 Ver 02.2019 @ GPIB0::4::INSTR\n"
     ]
    }
   ],
   "source": [
    "thermo.Initialize(\"GPIB0::4::INSTR\", 1, 1,\"\")   #gpib\n",
    "#thermo.Initialize(\"ASRL5::INSTR\", 1, \"\")      #usb\n",
    "#thermo.Initialize(\"ASRL8::INSTR\", 1, \"\")       #serial\n",
    "#thermo.Initialize(\"TCPIP0::192.168.0.63::3456::SOCKET\", 1, 1, \"simulate=True\")\n",
    "#thermo.Initialize(\"TCPIP0::192.168.0.63::3456::SOCKET\", 1, 1, \"\")"
   ]
  },
  {
   "cell_type": "code",
   "execution_count": 8,
   "metadata": {
    "ExecuteTime": {
     "end_time": "2019-03-07T13:52:28.816660Z",
     "start_time": "2019-03-07T13:52:28.808698Z"
    },
    "scrolled": true
   },
   "outputs": [
    {
     "data": {
      "text/plain": [
       "{'mode': <MODE.AIR_CTRL: 0>,\n",
       " 'setpoint': 28.0,\n",
       " 'window': 2.0,\n",
       " 'ramp_rate': 2.0,\n",
       " 'flow_rate': 0.0,\n",
       " 'flow_state': False,\n",
       " 'compressor_state': True,\n",
       " 'compressor_timer': 0.0,\n",
       " 'head_pos': <HEAD_POS.UP: 0>,\n",
       " 'head_lock': False,\n",
       " 'sensor': <SENSOR.NONE: 0>}"
      ]
     },
     "execution_count": 8,
     "metadata": {},
     "output_type": "execute_result"
    }
   ],
   "source": [
    "thermo._statecache #statecache after the initialization with the actual state of the machine"
   ]
  },
  {
   "cell_type": "code",
   "execution_count": 9,
   "metadata": {
    "ExecuteTime": {
     "end_time": "2019-03-07T13:50:24.767398Z",
     "start_time": "2019-03-07T13:50:24.759437Z"
    },
    "scrolled": false
   },
   "outputs": [
    {
     "name": "stdout",
     "output_type": "stream",
     "text": [
      "[root:INFO    ] -> Thermostream Limits:\n",
      "    TEMP_HIGH = 225.0   # °C\n",
      "    TEMP_LOW = -80.0    # °C\n",
      "    FLOW_HIGH = 8     # unit: l/s -> 18 scfm\n",
      "    FLOW_LOW = 2     # unit: l/s -> 5 scfm\n",
      "    WINDOW_HIGH = 9.9   # unit: °C\n",
      "    WINDOW_LOW = 0.1    # unit: °C\n",
      "    RATE_HIGH = 9999    # °C/minute\n",
      "    RATE_LOW = 0        # °C/minute\n",
      "\n"
     ]
    }
   ],
   "source": [
    "logger.info(thermo)"
   ]
  },
  {
   "cell_type": "markdown",
   "metadata": {},
   "source": [
    "## Identity Feature"
   ]
  },
  {
   "cell_type": "code",
   "execution_count": 10,
   "metadata": {
    "ExecuteTime": {
     "end_time": "2019-03-07T13:50:26.846709Z",
     "start_time": "2019-03-07T13:50:26.802717Z"
    },
    "scrolled": false
   },
   "outputs": [
    {
     "name": "stdout",
     "output_type": "stream",
     "text": [
      "[root:INFO    ] -> IDN:     TSR, 2252,S/N 180006764, Rev V15 Ver 02.2019\n",
      "[root:INFO    ] -> FW REV:  Rev V15 Ver 02.2019\n",
      "[root:INFO    ] -> DRV REV: not available\n"
     ]
    }
   ],
   "source": [
    "logger.info(\"IDN:     \" + thermo.Identity.Identifier)\n",
    "logger.info(\"FW REV:  \" + thermo.Identity.InstrumentFirmwareRevision)\n",
    "logger.info(\"DRV REV: \" + thermo.Identity.Revision)"
   ]
  },
  {
   "cell_type": "markdown",
   "metadata": {},
   "source": [
    "## Temperature Logger"
   ]
  },
  {
   "cell_type": "code",
   "execution_count": 11,
   "metadata": {
    "ExecuteTime": {
     "end_time": "2019-03-07T13:50:30.303707Z",
     "start_time": "2019-03-07T13:50:30.291672Z"
    },
    "scrolled": false
   },
   "outputs": [],
   "source": [
    "logpath = r\"C:\\temp\\templog.csv\"\n",
    "thermo.Templogger.config(logpath, 0.1)"
   ]
  },
  {
   "cell_type": "code",
   "execution_count": 12,
   "metadata": {
    "ExecuteTime": {
     "end_time": "2019-03-07T13:50:33.279721Z",
     "start_time": "2019-03-07T13:50:30.597459Z"
    },
    "scrolled": false
   },
   "outputs": [],
   "source": [
    "thermo.Templogger.start()\n",
    "sleep(1)\n",
    "thermo.Templogger.pause()\n",
    "sleep(0.5)\n",
    "thermo.Templogger.start()\n",
    "sleep(1)\n",
    "thermo.Templogger.stop()"
   ]
  },
  {
   "cell_type": "code",
   "execution_count": 13,
   "metadata": {
    "ExecuteTime": {
     "end_time": "2019-03-07T13:50:33.329547Z",
     "start_time": "2019-03-07T13:50:33.279721Z"
    },
    "scrolled": false
   },
   "outputs": [
    {
     "data": {
      "text/html": [
       "<div>\n",
       "<style scoped>\n",
       "    .dataframe tbody tr th:only-of-type {\n",
       "        vertical-align: middle;\n",
       "    }\n",
       "\n",
       "    .dataframe tbody tr th {\n",
       "        vertical-align: top;\n",
       "    }\n",
       "\n",
       "    .dataframe thead th {\n",
       "        text-align: right;\n",
       "    }\n",
       "</style>\n",
       "<table border=\"1\" class=\"dataframe\">\n",
       "  <thead>\n",
       "    <tr style=\"text-align: right;\">\n",
       "      <th></th>\n",
       "      <th>AirTemp</th>\n",
       "      <th>DutTemp</th>\n",
       "    </tr>\n",
       "    <tr>\n",
       "      <th>Date</th>\n",
       "      <th></th>\n",
       "      <th></th>\n",
       "    </tr>\n",
       "  </thead>\n",
       "  <tbody>\n",
       "    <tr>\n",
       "      <th>2019-03-07 15:50:30.597459</th>\n",
       "      <td>26.0</td>\n",
       "      <td>26.0</td>\n",
       "    </tr>\n",
       "  </tbody>\n",
       "</table>\n",
       "</div>"
      ],
      "text/plain": [
       "                            AirTemp  DutTemp\n",
       "Date                                        \n",
       "2019-03-07 15:50:30.597459     26.0     26.0"
      ]
     },
     "execution_count": 13,
     "metadata": {},
     "output_type": "execute_result"
    }
   ],
   "source": [
    "thermo.Templogger.as_dataframe()"
   ]
  },
  {
   "cell_type": "code",
   "execution_count": 14,
   "metadata": {
    "ExecuteTime": {
     "end_time": "2019-03-07T13:50:34.339216Z",
     "start_time": "2019-03-07T13:50:33.333555Z"
    },
    "scrolled": false
   },
   "outputs": [
    {
     "data": {
      "text/plain": [
       "<matplotlib.axes._subplots.AxesSubplot at 0x10bf6d26550>"
      ]
     },
     "execution_count": 14,
     "metadata": {},
     "output_type": "execute_result"
    },
    {
     "data": {
      "image/png": "[encoded data removed]",
      "text/plain": [
       "<Figure size 432x288 with 1 Axes>"
      ]
     },
     "metadata": {},
     "output_type": "display_data"
    }
   ],
   "source": [
    "df = thermo.Templogger.as_dataframe()\n",
    "df.plot(style=dict(AirTemp=\"bo-\", DutTemp=\"ro-\"))"
   ]
  },
  {
   "cell_type": "markdown",
   "metadata": {},
   "source": [
    "## Properties"
   ]
  },
  {
   "cell_type": "code",
   "execution_count": 15,
   "metadata": {
    "ExecuteTime": {
     "end_time": "2019-03-07T13:50:39.405490Z",
     "start_time": "2019-03-07T13:50:37.309504Z"
    },
    "scrolled": false
   },
   "outputs": [
    {
     "name": "stdout",
     "output_type": "stream",
     "text": [
      "[root:INFO    ] -> MODE.DUT_CTRL\n",
      "[root:INFO    ] -> MODE.AIR_CTRL\n"
     ]
    }
   ],
   "source": [
    "# MODE\n",
    "    \n",
    "thermo.parameter.Mode = thermo.Enums.MODE.DUT_CTRL\n",
    "mode2 = thermo.parameter.Mode\n",
    "logger.info(mode2)\n",
    "assert mode2 == thermo.Enums.MODE.DUT_CTRL\n",
    "\n",
    "thermo.parameter.Mode = thermo.Enums.MODE.AIR_CTRL\n",
    "mode1 = thermo.parameter.Mode\n",
    "logger.info(mode1)\n",
    "assert mode1 == thermo.Enums.MODE.AIR_CTRL"
   ]
  },
  {
   "cell_type": "code",
   "execution_count": 16,
   "metadata": {
    "ExecuteTime": {
     "end_time": "2019-03-07T13:50:42.613613Z",
     "start_time": "2019-03-07T13:50:40.106251Z"
    },
    "scrolled": false
   },
   "outputs": [
    {
     "name": "stdout",
     "output_type": "stream",
     "text": [
      "[root:INFO    ] -> Dut Temperature: 26.00\n",
      "[root:INFO    ] -> Air Temperature: 26.00\n",
      "[root:INFO    ] -> Dut Temperature: 25.40\n",
      "[root:INFO    ] -> Air Temperature: 25.60\n"
     ]
    }
   ],
   "source": [
    "# Temperature\n",
    "\n",
    "logger.info(\"Dut Temperature: %.2f\" % thermo.parameter.DutTemp)\n",
    "logger.info(\"Air Temperature: %.2f\" % thermo.parameter.AirTemp)\n",
    "\n",
    "thermo.parameter.Mode = thermo.Enums.MODE.DUT_CTRL\n",
    "logger.info(\"Dut Temperature: %.2f\" % thermo.parameter.Temp)\n",
    "thermo.parameter.Mode = thermo.Enums.MODE.AIR_CTRL\n",
    "logger.info(\"Air Temperature: %.2f\" % thermo.parameter.Temp)"
   ]
  },
  {
   "cell_type": "code",
   "execution_count": 17,
   "metadata": {
    "ExecuteTime": {
     "end_time": "2019-03-07T13:50:44.045492Z",
     "start_time": "2019-03-07T13:50:43.339751Z"
    },
    "scrolled": false
   },
   "outputs": [
    {
     "name": "stdout",
     "output_type": "stream",
     "text": [
      "[root:INFO    ] -> 28.0\n"
     ]
    }
   ],
   "source": [
    "# Setpoint\n",
    "\n",
    "thermo.parameter.SetPoint = 28\n",
    "rb = thermo.parameter.SetPoint\n",
    "logger.info(rb)\n",
    "assert rb == 28"
   ]
  },
  {
   "cell_type": "code",
   "execution_count": 18,
   "metadata": {
    "ExecuteTime": {
     "end_time": "2019-03-07T13:50:45.777883Z",
     "start_time": "2019-03-07T13:50:45.081882Z"
    },
    "scrolled": false
   },
   "outputs": [
    {
     "name": "stdout",
     "output_type": "stream",
     "text": [
      "[root:INFO    ] -> 2.0\n"
     ]
    }
   ],
   "source": [
    "# Window\n",
    "\n",
    "thermo.parameter.Window = 2\n",
    "rb = thermo.parameter.Window\n",
    "logger.info(rb)\n",
    "assert rb == 2"
   ]
  },
  {
   "cell_type": "code",
   "execution_count": 19,
   "metadata": {
    "ExecuteTime": {
     "end_time": "2019-03-07T13:50:47.951604Z",
     "start_time": "2019-03-07T13:50:46.542007Z"
    },
    "scrolled": false
   },
   "outputs": [
    {
     "name": "stdout",
     "output_type": "stream",
     "text": [
      "[root:INFO    ] -> 10.0\n",
      "[root:INFO    ] -> 9999.0\n"
     ]
    }
   ],
   "source": [
    "# RampRate - Can be set only if the head is lowered\n",
    "\n",
    "thermo.parameter.RampRate = 10\n",
    "rb = thermo.parameter.RampRate\n",
    "logger.info(rb)\n",
    "assert rb == 10\n",
    "\n",
    "thermo.parameter.RampRate = 9999  # As fast as possible\n",
    "rb = thermo.parameter.RampRate\n",
    "logger.info(rb)\n",
    "assert rb == 9999"
   ]
  },
  {
   "cell_type": "code",
   "execution_count": 20,
   "metadata": {
    "ExecuteTime": {
     "end_time": "2019-03-07T13:50:58.735905Z",
     "start_time": "2019-03-07T13:50:48.896163Z"
    },
    "scrolled": false
   },
   "outputs": [
    {
     "name": "stdout",
     "output_type": "stream",
     "text": [
      "[root:INFO    ] -> 5.0\n"
     ]
    }
   ],
   "source": [
    "# FlowRate\n",
    "thermo.parameter.HeadPosition = thermo.Enums.HEAD_POS.DOWN\n",
    "sleep(0.3)\n",
    "thermo.parameter.FlowState = True\n",
    "try:\n",
    "    thermo.parameter.FlowRate = 5\n",
    "    sleep(3)\n",
    "except NotImplementedError as e:\n",
    "    logger.info(e, exc_info=False)\n",
    "else:\n",
    "    rb = thermo.parameter.FlowRate\n",
    "    logger.info(rb)\n",
    "    assert math.ceil(rb) == 5\n",
    "thermo.parameter.FlowState = False\n",
    "thermo.parameter.HeadPosition = thermo.Enums.HEAD_POS.UP"
   ]
  },
  {
   "cell_type": "code",
   "execution_count": 21,
   "metadata": {
    "ExecuteTime": {
     "end_time": "2019-03-07T13:51:02.027166Z",
     "start_time": "2019-03-07T13:51:00.627796Z"
    },
    "scrolled": false
   },
   "outputs": [
    {
     "name": "stdout",
     "output_type": "stream",
     "text": [
      "[root:INFO    ] -> True\n",
      "[root:INFO    ] -> False\n"
     ]
    }
   ],
   "source": [
    "# HeadLock\n",
    "\n",
    "try:\n",
    "    thermo.parameter.HeadLock = True\n",
    "except NotImplementedError as e:\n",
    "    logger.info(e, exc_info=False)\n",
    "else:\n",
    "    rb = thermo.parameter.HeadLock\n",
    "    logger.info(rb)\n",
    "    assert rb == True\n",
    "\n",
    "    thermo.parameter.HeadLock = False\n",
    "    rb = thermo.parameter.HeadLock\n",
    "    logger.info(rb)\n",
    "    assert rb == False"
   ]
  },
  {
   "cell_type": "code",
   "execution_count": 22,
   "metadata": {
    "ExecuteTime": {
     "end_time": "2019-03-07T13:51:08.337424Z",
     "start_time": "2019-03-07T13:51:03.130459Z"
    },
    "scrolled": false
   },
   "outputs": [
    {
     "name": "stdout",
     "output_type": "stream",
     "text": [
      "[root:INFO    ] -> HEAD_POS.UP\n",
      "[root:INFO    ] -> HEAD_POS.DOWN\n"
     ]
    }
   ],
   "source": [
    "# HeadPosition\n",
    "\n",
    "thermo.parameter.HeadPosition = thermo.Enums.HEAD_POS.UP\n",
    "rb = thermo.parameter.HeadPosition\n",
    "logger.info(rb)\n",
    "assert rb == thermo.Enums.HEAD_POS.UP\n",
    "\n",
    "thermo.parameter.HeadPosition = thermo.Enums.HEAD_POS.DOWN\n",
    "rb = thermo.parameter.HeadPosition\n",
    "logger.info(rb)\n",
    "assert rb == thermo.Enums.HEAD_POS.DOWN"
   ]
  },
  {
   "cell_type": "code",
   "execution_count": 23,
   "metadata": {
    "ExecuteTime": {
     "end_time": "2019-03-07T13:51:11.737038Z",
     "start_time": "2019-03-07T13:51:09.543999Z"
    },
    "scrolled": false
   },
   "outputs": [
    {
     "name": "stdout",
     "output_type": "stream",
     "text": [
      "[root:INFO    ] -> True\n",
      "[root:INFO    ] -> False\n"
     ]
    }
   ],
   "source": [
    "# FlowState\n",
    "\n",
    "thermo.parameter.FlowState = True\n",
    "rb = thermo.parameter.FlowState\n",
    "logger.info(rb)\n",
    "assert rb == True\n",
    "thermo.parameter.FlowState = False\n",
    "rb = thermo.parameter.FlowState\n",
    "logger.info(rb)\n",
    "assert rb == False"
   ]
  },
  {
   "cell_type": "code",
   "execution_count": 24,
   "metadata": {
    "ExecuteTime": {
     "end_time": "2019-03-07T13:51:18.945642Z",
     "start_time": "2019-03-07T13:51:13.977545Z"
    },
    "scrolled": false
   },
   "outputs": [
    {
     "name": "stdout",
     "output_type": "stream",
     "text": [
      "[root:INFO    ] -> True\n",
      "[root:INFO    ] -> False\n",
      "[root:INFO    ] -> True\n"
     ]
    }
   ],
   "source": [
    "# CompressorState\n",
    "\n",
    "thermo.parameter.CompressorState = True\n",
    "rb = thermo.parameter.CompressorState\n",
    "logger.info(rb)\n",
    "assert rb == True\n",
    "\n",
    "thermo.parameter.CompressorState = False\n",
    "rb = thermo.parameter.CompressorState\n",
    "logger.info(rb)\n",
    "assert rb == False\n",
    "\n",
    "thermo.parameter.CompressorState = True\n",
    "rb = thermo.parameter.CompressorState\n",
    "logger.info(rb)\n",
    "assert rb == True"
   ]
  },
  {
   "cell_type": "code",
   "execution_count": 25,
   "metadata": {
    "ExecuteTime": {
     "end_time": "2019-03-07T13:51:19.831751Z",
     "start_time": "2019-03-07T13:51:19.823753Z"
    },
    "scrolled": false
   },
   "outputs": [
    {
     "name": "stdout",
     "output_type": "stream",
     "text": [
      "[root:INFO    ] -> Compressor timer is not supported with TSR2252.\n"
     ]
    }
   ],
   "source": [
    "# CompressorTimer\n",
    "\n",
    "try:\n",
    "    thermo.parameter.CompressorTimer = 15\n",
    "except NotImplementedError as e:\n",
    "    logger.info(e, exc_info=False)\n",
    "else:\n",
    "    rb = thermo.parameter.CompressorTimer\n",
    "    logger.info(rb)\n",
    "    assert rb == 14 or rb == 15\n",
    "\n",
    "    thermo.parameter.CompressorTimer = 0\n",
    "    rb = thermo.parameter.CompressorTimer\n",
    "    logger.info(rb)\n",
    "    assert rb == 0\n",
    "\n",
    "    logger.info(thermo.parameter.CompressorTimerRemaining)"
   ]
  },
  {
   "cell_type": "markdown",
   "metadata": {},
   "source": [
    "## Wait until temperature settled"
   ]
  },
  {
   "cell_type": "code",
   "execution_count": 28,
   "metadata": {
    "scrolled": false
   },
   "outputs": [
    {
     "name": "stdout",
     "output_type": "stream",
     "text": [
      "[root:INFO    ] ->   0% of wait time has passed. Cur: 23.2°C\tTarget: 110.0°C.\n",
      "[root:INFO    ] -> Temperature is within range. Soaking for 1 minute(s)...\n",
      "[root:INFO    ] ->   0% of soaktime has passed.\n",
      "[root:INFO    ] ->  20% of soaktime has passed.\n",
      "[root:INFO    ] ->  40% of soaktime has passed.\n",
      "[root:INFO    ] ->  60% of soaktime has passed.\n",
      "[root:INFO    ] ->  80% of soaktime has passed.\n",
      "[root:INFO    ] -> Finished soaking. Moving on...\n"
     ]
    },
    {
     "data": {
      "image/png": "[encoded data removed]",
      "text/plain": [
       "<Figure size 432x288 with 1 Axes>"
      ]
     },
     "metadata": {},
     "output_type": "display_data"
    }
   ],
   "source": [
    "# Cannot be simulated\n",
    "thermo.parameter.Mode = thermo.Enums.MODE.DUT_CTRL\n",
    "thermo.parameter.HeadPosition = thermo.Enums.HEAD_POS.DOWN\n",
    "thermo.Templogger.config(logpath, 0.1)\n",
    "thermo.Templogger.start()\n",
    "try:\n",
    "    thermo.WaitForTemp(timeout_s=600, target=110., window_k=3, flowrate=6., soaktime_m=1, disable_exception=False)\n",
    "except Exception as e:\n",
    "    logger.exception(e)\n",
    "finally:\n",
    "    thermo.Templogger.stop()\n",
    "    thermo.parameter.FlowState = False\n",
    "    df = thermo.Templogger.as_dataframe()\n",
    "    df.plot(style=dict(AirTemp=\"bo-\", DutTemp=\"ro-\"))"
   ]
  },
  {
   "cell_type": "markdown",
   "metadata": {},
   "source": [
    "## Close"
   ]
  },
  {
   "cell_type": "code",
   "execution_count": 29,
   "metadata": {
    "scrolled": false
   },
   "outputs": [],
   "source": [
    "thermo.Close()"
   ]
  },
  {
   "cell_type": "markdown",
   "metadata": {
    "ExecuteTime": {
     "end_time": "2018-03-08T15:07:21.235486Z",
     "start_time": "2018-03-08T15:07:18.705435Z"
    },
    "collapsed": true
   },
   "source": [
    "# Dev area"
   ]
  },
  {
   "cell_type": "code",
   "execution_count": 26,
   "metadata": {
    "scrolled": true
   },
   "outputs": [],
   "source": [
    "thermo.configure(thermo.Enums.MODE.AIR_CTRL, temp=60, window_k=4, flowrate=4.5) #check if flowrate is set even tho the flow state is false"
   ]
  },
  {
   "cell_type": "code",
   "execution_count": 15,
   "metadata": {
    "ExecuteTime": {
     "end_time": "2019-03-07T13:15:34.017851Z",
     "start_time": "2019-03-07T13:15:33.319059Z"
    }
   },
   "outputs": [],
   "source": [
    "thermo.parameter.HeadPosition = thermo.Enums.HEAD_POS.UP\n",
    "#thermo.parameter.FlowState = True"
   ]
  },
  {
   "cell_type": "code",
   "execution_count": 9,
   "metadata": {},
   "outputs": [],
   "source": [
    "thermo.parameter.FlowState = False"
   ]
  },
  {
   "cell_type": "code",
   "execution_count": 27,
   "metadata": {
    "scrolled": true
   },
   "outputs": [
    {
     "name": "stdout",
     "output_type": "stream",
     "text": [
      "[root:INFO    ] -> True\n",
      "[root:INFO    ] -> False\n"
     ]
    }
   ],
   "source": [
    "# FlowState TESTING\n",
    "\n",
    "thermo.parameter.FlowState = True\n",
    "sleep(0.2)\n",
    "rb = thermo.parameter.FlowState\n",
    "sleep(0.2)\n",
    "logger.info(rb)\n",
    "assert rb == True\n",
    "sleep(2)\n",
    "thermo.parameter.FlowState = False\n",
    "sleep(0.2)\n",
    "rb = thermo.parameter.FlowState\n",
    "logger.info(rb)\n",
    "assert rb == False"
   ]
  },
  {
   "cell_type": "code",
   "execution_count": 22,
   "metadata": {
    "scrolled": true
   },
   "outputs": [
    {
     "name": "stdout",
     "output_type": "stream",
     "text": [
      "0.0\n"
     ]
    }
   ],
   "source": [
    "#thermo.parameter.HeadPosition = thermo.Enums.HEAD_POS.UP\n",
    "#thermo.configure(thermo.Enums.MODE.AIR_CTRL, temp=40, ramprate=9999)\n",
    "print(thermo.parameter.RampRate)"
   ]
  },
  {
   "cell_type": "code",
   "execution_count": 16,
   "metadata": {},
   "outputs": [
    {
     "name": "stdout",
     "output_type": "stream",
     "text": [
      "[root:INFO    ] ->   0% of wait time has passed. Cur: 23.3°C\tTarget: 60.0°C.\n",
      "[root:INFO    ] ->  20% of wait time has passed. Cur: 39.8°C\tTarget: 60.0°C.\n",
      "[root:INFO    ] -> Temperature is within range. Soaking for 0.5 minute(s)...\n",
      "[root:INFO    ] ->   0% of soaktime has passed.\n",
      "[root:INFO    ] ->  20% of soaktime has passed.\n",
      "[root:INFO    ] ->  40% of soaktime has passed.\n",
      "[root:INFO    ] ->  60% of soaktime has passed.\n",
      "[root:INFO    ] ->  80% of soaktime has passed.\n",
      "[root:INFO    ] -> Finished soaking. Moving on...\n"
     ]
    },
    {
     "data": {
      "image/png": "[encoded data removed]",
      "text/plain": [
       "<Figure size 432x288 with 1 Axes>"
      ]
     },
     "metadata": {},
     "output_type": "display_data"
    }
   ],
   "source": [
    "#thermo.parameter.Mode = thermo.Enums.MODE.DUT_CTRL\n",
    "thermo.parameter.HeadPosition = thermo.Enums.HEAD_POS.DOWN\n",
    "thermo.parameter.RampRate = 100\n",
    "thermo.Templogger.config(logpath, 0.1)\n",
    "thermo.Templogger.start()\n",
    "try:\n",
    "    thermo.WaitForTemp(timeout_s=600, target=60, window_k=2, flowrate=4., soaktime_m=0.5, disable_exception=False)\n",
    "except Exception as e:\n",
    "    logger.exception(e)\n",
    "finally:\n",
    "    thermo.Templogger.stop()\n",
    "    thermo.parameter.FlowState = False\n",
    "    df = thermo.Templogger.as_dataframe()\n",
    "    df.plot(style=dict(AirTemp=\"bo-\", DutTemp=\"ro-\"))"
   ]
  },
  {
   "cell_type": "code",
   "execution_count": 15,
   "metadata": {},
   "outputs": [
    {
     "name": "stdout",
     "output_type": "stream",
     "text": [
      "HEAD_POS.DOWN\n"
     ]
    },
    {
     "data": {
      "text/plain": [
       "12.0"
      ]
     },
     "execution_count": 15,
     "metadata": {},
     "output_type": "execute_result"
    }
   ],
   "source": [
    "print(thermo.parameter.HeadPosition)\n",
    "thermo.parameter.RampRate = 12\n",
    "thermo.parameter.RampRate"
   ]
  },
  {
   "cell_type": "code",
   "execution_count": 14,
   "metadata": {},
   "outputs": [
    {
     "data": {
      "text/plain": [
       "True"
      ]
     },
     "execution_count": 14,
     "metadata": {},
     "output_type": "execute_result"
    }
   ],
   "source": [
    "thermo.parameter.CompressorState"
   ]
  },
  {
   "cell_type": "code",
   "execution_count": 30,
   "metadata": {
    "ExecuteTime": {
     "end_time": "2019-03-07T12:06:04.241917Z",
     "start_time": "2019-03-07T12:06:04.229835Z"
    }
   },
   "outputs": [
    {
     "data": {
      "text/plain": [
       "{'mode': <MODE.AIR_CTRL: 0>,\n",
       " 'setpoint': 28.0,\n",
       " 'window': 2.0,\n",
       " 'ramp_rate': 9999.0,\n",
       " 'flow_rate': 5.0,\n",
       " 'flow_state': False,\n",
       " 'compressor_state': True,\n",
       " 'compressor_timer': 0.0,\n",
       " 'head_pos': <HEAD_POS.UP: 0>,\n",
       " 'head_lock': False,\n",
       " 'sensor': <SENSOR.K: 2>}"
      ]
     },
     "execution_count": 30,
     "metadata": {},
     "output_type": "execute_result"
    }
   ],
   "source": [
    "thermo._statecache"
   ]
  },
  {
   "cell_type": "code",
   "execution_count": 20,
   "metadata": {
    "ExecuteTime": {
     "end_time": "2019-03-07T13:15:59.126466Z",
     "start_time": "2019-03-07T13:15:58.817558Z"
    }
   },
   "outputs": [
    {
     "data": {
      "text/plain": [
       "<HEAD_POS.UP: 0>"
      ]
     },
     "execution_count": 20,
     "metadata": {},
     "output_type": "execute_result"
    }
   ],
   "source": [
    "thermo.parameter.HeadPosition"
   ]
  },
  {
   "cell_type": "code",
   "execution_count": 21,
   "metadata": {
    "ExecuteTime": {
     "end_time": "2019-03-07T13:16:02.519183Z",
     "start_time": "2019-03-07T13:16:02.200132Z"
    }
   },
   "outputs": [
    {
     "data": {
      "text/plain": [
       "(4, <StatusCode.success: 0>)"
      ]
     },
     "execution_count": 21,
     "metadata": {},
     "output_type": "execute_result"
    }
   ],
   "source": [
    "thermo._write('*RST')"
   ]
  },
  {
   "cell_type": "code",
   "execution_count": 20,
   "metadata": {
    "scrolled": true
   },
   "outputs": [
    {
     "data": {
      "text/plain": [
       "'+0\\n'"
      ]
     },
     "execution_count": 20,
     "metadata": {},
     "output_type": "execute_result"
    }
   ],
   "source": [
    "thermo._query('TECR?')"
   ]
  },
  {
   "cell_type": "code",
   "execution_count": 12,
   "metadata": {
    "scrolled": true
   },
   "outputs": [
    {
     "ename": "NotImplementedError",
     "evalue": "CheckError not compatible with TSR2252 thermostream",
     "output_type": "error",
     "traceback": [
      "\u001b[1;31m---------------------------------------------------------------------------\u001b[0m",
      "\u001b[1;31mNotImplementedError\u001b[0m                       Traceback (most recent call last)",
      "\u001b[1;32m<ipython-input-12-b64b025567d1>\u001b[0m in \u001b[0;36m<module>\u001b[1;34m()\u001b[0m\n\u001b[1;32m----> 1\u001b[1;33m \u001b[0mthermo\u001b[0m\u001b[1;33m.\u001b[0m\u001b[0mCheckError\u001b[0m\u001b[1;33m(\u001b[0m\u001b[1;33m)\u001b[0m\u001b[1;33m\u001b[0m\u001b[0m\n\u001b[0m",
      "\u001b[1;32mC:\\Work\\pyverify\\pverify\\drivers\\TemperatureChamber\\TSR2252\\TSR2252.py\u001b[0m in \u001b[0;36mCheckError\u001b[1;34m(self)\u001b[0m\n\u001b[0;32m    647\u001b[0m          \u001b[1;31m#   elif esr & 0b00000100:\u001b[0m\u001b[1;33m\u001b[0m\u001b[1;33m\u001b[0m\u001b[0m\n\u001b[0;32m    648\u001b[0m          \u001b[1;31m#       raise QueryError(\"\")\u001b[0m\u001b[1;33m\u001b[0m\u001b[1;33m\u001b[0m\u001b[0m\n\u001b[1;32m--> 649\u001b[1;33m         \u001b[1;32mraise\u001b[0m \u001b[0mNotImplementedError\u001b[0m\u001b[1;33m(\u001b[0m\u001b[1;34m'CheckError not compatible with TSR2252 thermostream'\u001b[0m\u001b[1;33m)\u001b[0m\u001b[1;33m\u001b[0m\u001b[0m\n\u001b[0m\u001b[0;32m    650\u001b[0m \u001b[1;33m\u001b[0m\u001b[0m\n\u001b[0;32m    651\u001b[0m     \u001b[1;33m@\u001b[0m\u001b[0mproperty\u001b[0m\u001b[1;33m\u001b[0m\u001b[0m\n",
      "\u001b[1;31mNotImplementedError\u001b[0m: CheckError not compatible with TSR2252 thermostream"
     ]
    }
   ],
   "source": [
    "thermo.CheckError()"
   ]
  },
  {
   "cell_type": "code",
   "execution_count": null,
   "metadata": {},
   "outputs": [],
   "source": []
  }
 ],
 "metadata": {
  "kernelspec": {
   "display_name": "Python 3",
   "language": "python",
   "name": "python3"
  },
  "language_info": {
   "codemirror_mode": {
    "name": "ipython",
    "version": 3
   },
   "file_extension": ".py",
   "mimetype": "text/x-python",
   "name": "python",
   "nbconvert_exporter": "python",
   "pygments_lexer": "ipython3",
   "version": "3.6.5"
  },
  "toc": {
   "base_numbering": 1,
   "nav_menu": {},
   "number_sections": true,
   "sideBar": true,
   "skip_h1_title": false,
   "title_cell": "Table of Contents",
   "title_sidebar": "Contents",
   "toc_cell": false,
   "toc_position": {},
   "toc_section_display": true,
   "toc_window_display": false
  }
 },
 "nbformat": 4,
 "nbformat_minor": 2
}
