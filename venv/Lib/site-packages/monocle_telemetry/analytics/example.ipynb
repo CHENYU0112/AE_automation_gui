{
 "cells": [
  {
   "cell_type": "code",
   "execution_count": null,
   "id": "d0940251-7028-46cb-9355-bfcd9f2838d8",
   "metadata": {},
   "outputs": [],
   "source": [
    "import plotly.express as px\n",
    "\n",
    "from monocle_telemetry.analytics.feature import *\n",
    "from monocle_telemetry.client import MonocleClient, MONOCLE_BASE_URL_DEV"
   ]
  },
  {
   "cell_type": "code",
   "execution_count": null,
   "outputs": [],
   "source": [
    "with MonocleClient(MONOCLE_BASE_URL_DEV) as client:\n",
    "    df = to_dataframe(client.search_features(\"monocle-analytics\", max_items=10000))"
   ],
   "metadata": {
    "collapsed": false
   },
   "id": "d10a9e15-1ba4-4bf7-88e2-74e4dbf4611d"
  },
  {
   "cell_type": "code",
   "execution_count": null,
   "outputs": [],
   "source": [
    "unique_users_per_week(df)"
   ],
   "metadata": {
    "collapsed": false
   },
   "id": "765714fd609920d3"
  },
  {
   "cell_type": "code",
   "execution_count": null,
   "outputs": [],
   "source": [
    "px.bar(unique_users_per_week(df), y=\"user\")"
   ],
   "metadata": {
    "collapsed": false
   },
   "id": "14998434-793b-461d-922c-3c743bd94cd4"
  },
  {
   "cell_type": "code",
   "execution_count": null,
   "outputs": [],
   "source": [
    "unique_users_per_month(df)"
   ],
   "metadata": {
    "collapsed": false
   },
   "id": "47c68b90c8fc9b51"
  },
  {
   "cell_type": "code",
   "execution_count": null,
   "id": "6a54a7f4-a55a-45dc-ac03-c1a764c188a7",
   "metadata": {},
   "outputs": [],
   "source": [
    "px.bar(unique_users_per_month(df), y=\"user\")"
   ]
  },
  {
   "cell_type": "code",
   "execution_count": null,
   "outputs": [],
   "source": [
    "unique_users_by(df, \"tool\")"
   ],
   "metadata": {
    "collapsed": false
   },
   "id": "4066c61d777e7f33"
  },
  {
   "cell_type": "code",
   "execution_count": null,
   "outputs": [],
   "source": [
    "monthly_usage_by(df, \"tool\")"
   ],
   "metadata": {
    "collapsed": false
   },
   "id": "67233959a047f7f9"
  },
  {
   "cell_type": "code",
   "execution_count": null,
   "id": "5d244f03-c67f-424f-99d0-d835b2a474d7",
   "metadata": {},
   "outputs": [],
   "source": [
    "px.bar(monthly_usage_by(df, \"tool\"), x=\"timestamp\", y=\"usage\", color=\"tool\")"
   ]
  },
  {
   "cell_type": "code",
   "execution_count": null,
   "outputs": [],
   "source": [
    "monthly_usage_by(df, \"tool\")"
   ],
   "metadata": {
    "collapsed": false
   },
   "id": "b68d7c65aaf90a8e"
  },
  {
   "cell_type": "code",
   "execution_count": null,
   "id": "72e3cd26-6236-4ee4-8e95-27ec556871fa",
   "metadata": {
    "scrolled": true
   },
   "outputs": [],
   "source": [
    "px.line(monthly_usage_by(df, \"tool\"), x=\"timestamp\", y=\"usage\", color=\"tool\", markers=True)"
   ]
  },
  {
   "cell_type": "code",
   "execution_count": null,
   "outputs": [],
   "source": [
    "monthly_usage_by_tool_and_feature(df)"
   ],
   "metadata": {
    "collapsed": false
   },
   "id": "937ecf5314b45c9e"
  },
  {
   "cell_type": "code",
   "execution_count": null,
   "id": "2a04f073-db1c-4fce-8221-f7d727d067d4",
   "metadata": {},
   "outputs": [],
   "source": [
    "px.bar(monthly_usage_by_tool_and_feature(df), x=\"timestamp\", y=\"usage\", color=\"feature\", facet_row=\"tool\", height=800)"
   ]
  },
  {
   "cell_type": "code",
   "execution_count": null,
   "outputs": [],
   "source": [
    "monthly_tool_usage_by_bu(df)"
   ],
   "metadata": {
    "collapsed": false
   },
   "id": "d5c1a920577ea9f4"
  },
  {
   "cell_type": "code",
   "execution_count": null,
   "id": "a8117d80-7bfc-4d82-b478-c79dd68756ee",
   "metadata": {},
   "outputs": [],
   "source": [
    "px.bar(monthly_tool_usage_by_bu(df), x=\"timestamp\", y=\"usage\", color=\"bu\", facet_row=\"tool\", height=800)"
   ]
  }
 ],
 "metadata": {
  "kernelspec": {
   "display_name": "Python 3 (ipykernel)",
   "language": "python",
   "name": "python3"
  },
  "language_info": {
   "codemirror_mode": {
    "name": "ipython",
    "version": 3
   },
   "file_extension": ".py",
   "mimetype": "text/x-python",
   "name": "python",
   "nbconvert_exporter": "python",
   "pygments_lexer": "ipython3",
   "version": "3.11.4"
  }
 },
 "nbformat": 4,
 "nbformat_minor": 5
}
